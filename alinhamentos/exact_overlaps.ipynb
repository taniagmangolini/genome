{
 "cells": [
  {
   "cell_type": "code",
   "execution_count": 1,
   "metadata": {},
   "outputs": [],
   "source": [
    "from itertools import permutations"
   ]
  },
  {
   "cell_type": "code",
   "execution_count": 2,
   "metadata": {},
   "outputs": [],
   "source": [
    "def find_overlap(sufix,prefix,n):\n",
    "    '''encontra overlaps de tamanho n entre o sufixo e o prefixo \n",
    "       Ex -  overlap de tamanho 4:\n",
    "           CGCGAAGT (sufixo)\n",
    "               AAGTCCCCCAAA (prefixo)\n",
    "    '''\n",
    "    start = 0\n",
    "    while True:\n",
    "        start =  sufix.find(prefix[:n], start)\n",
    "        \n",
    "        if start == -1: # nao encontrou overlap de tamanho n\n",
    "            return 0\n",
    "        \n",
    "        if prefix.startswith(sufix[start:]):\n",
    "            return len(sufix) - start\n",
    "        \n",
    "        start += 1"
   ]
  },
  {
   "cell_type": "code",
   "execution_count": 3,
   "metadata": {},
   "outputs": [],
   "source": [
    "def find_all_overlaps (reads, n):\n",
    "    '''Obtem um conjunto de reads, permuta as reads par a par, verificando o overlap entre elas'''\n",
    "    \n",
    "    overlaps = {}\n",
    "    permuts =  []\n",
    "    \n",
    "    for sufix, prefix in permutations (reads, 2):\n",
    "        permuts.append([sufix, prefix])\n",
    "    for pair in permuts:\n",
    "        print('sufix', pair[0], 'prefix', pair[1])\n",
    "        overlap = find_overlap(pair[0], pair[1], n)\n",
    "        if overlap > 0:\n",
    "            overlaps[(pair[0], pair[1])] = overlap\n",
    "    return overlaps"
   ]
  },
  {
   "cell_type": "code",
   "execution_count": 5,
   "metadata": {},
   "outputs": [
    {
     "name": "stdout",
     "output_type": "stream",
     "text": [
      "sufix AAAGAAGTAAAT prefix AAGTCCCCCAAA\n",
      "sufix AAAGAAGTAAAT prefix AAATCAAAGTAGGGCCAAAT\n",
      "sufix AAGTCCCCCAAA prefix AAAGAAGTAAAT\n",
      "sufix AAGTCCCCCAAA prefix AAATCAAAGTAGGGCCAAAT\n",
      "sufix AAATCAAAGTAGGGCCAAAT prefix AAAGAAGTAAAT\n",
      "sufix AAATCAAAGTAGGGCCAAAT prefix AAGTCCCCCAAA\n"
     ]
    },
    {
     "data": {
      "text/plain": [
       "{('AAAGAAGTAAAT', 'AAATCAAAGTAGGGCCAAAT'): 4,\n",
       " ('AAGTCCCCCAAA', 'AAAGAAGTAAAT'): 3,\n",
       " ('AAGTCCCCCAAA', 'AAATCAAAGTAGGGCCAAAT'): 3}"
      ]
     },
     "execution_count": 5,
     "metadata": {},
     "output_type": "execute_result"
    }
   ],
   "source": [
    "a = 'AAAGAAGTAAAT'\n",
    "b = 'AAGTCCCCCAAA'\n",
    "c = 'AAATCAAAGTAGGGCCAAAT'\n",
    "\n",
    "reads = [a, b, c]\n",
    "#print(find_overlap(a, c, 4))\n",
    "\n",
    "find_all_overlaps(reads, 3)"
   ]
  },
  {
   "cell_type": "code",
   "execution_count": null,
   "metadata": {},
   "outputs": [],
   "source": []
  },
  {
   "cell_type": "code",
   "execution_count": null,
   "metadata": {},
   "outputs": [],
   "source": []
  },
  {
   "cell_type": "code",
   "execution_count": null,
   "metadata": {},
   "outputs": [],
   "source": []
  }
 ],
 "metadata": {
  "kernelspec": {
   "display_name": "Python 3",
   "language": "python",
   "name": "python3"
  },
  "language_info": {
   "codemirror_mode": {
    "name": "ipython",
    "version": 3
   },
   "file_extension": ".py",
   "mimetype": "text/x-python",
   "name": "python",
   "nbconvert_exporter": "python",
   "pygments_lexer": "ipython3",
   "version": "3.6.5"
  }
 },
 "nbformat": 4,
 "nbformat_minor": 2
}
