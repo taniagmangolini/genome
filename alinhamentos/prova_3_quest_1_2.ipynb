{
 "cells": [
  {
   "cell_type": "code",
   "execution_count": 10,
   "metadata": {},
   "outputs": [],
   "source": [
    "'''Dada uma sequencia e um trecho de interesse, encontrar os hits na sequencia e \n",
    " e calcular as distancias entre os hits e o trecho de interesse'''\n",
    "import bisect\n",
    "   \n",
    "class SubseqIndex(object):\n",
    "    \n",
    "    TOTAL_SUBSEQS = 2\n",
    "    SUBSEQS = {0: 'first', 1:'second'}\n",
    "\n",
    "    def __init__(self, t, k, ival):\n",
    "        \"\"\"ival: intervalo entre os caracteres do texto \n",
    "           k: quantidade de caracteres na chave do indice\n",
    "           t: texto\n",
    "        Transforma um texto em um indice, cujos elementos sao subsequencias do tamanho (k)\n",
    "        e extraidas de forma sequencial, respeitando o espaco  definido  entre os caracteres (ival).\n",
    "        Permite apenas realizar buscas exatas.\n",
    "        Ex: SubseqIndex(\"ATAT\", 2, 2)  retorna indice (\"AA\", 0) and (\"TT\", 1)\"\"\"\n",
    "        self.k = k  # num characters per subsequence \n",
    "        self.ival = ival  # space between them; 1=adjacent, 2=every other, etc\n",
    "        self.index = []\n",
    "        self.span = 1 + ival * (k - 1)\n",
    "        for i in range(len(t) - self.span + 1):  # for each subseq\n",
    "            self.index.append((t[i:i+self.span:ival], i))  # add (subseq, offset)\n",
    "\n",
    "        self.index.sort()  # alphabetize by subseq\n",
    "    \n",
    "    def query(self, p):\n",
    "        '''p: padrao buscado\n",
    "        Obtem os indices encontrados para determinada busca. Para isso,\n",
    "        extrai subsequencia do trecho buscado considerando o mesmo padrao que foi usado \n",
    "        para a montagem do indice. Em seguida, faz a busca no indice. Se nao encontrar, \n",
    "        faz uma nova tentativa, porem começando a subsequencia do segundo caracter. \n",
    "        Retorna os hits e se foi na primeira ou na segunda subsequencia '''\n",
    "        hits = []\n",
    "\n",
    "        for i in range (self.TOTAL_SUBSEQS):\n",
    "            \n",
    "            subseq = p[i:i+self.span:self.ival]  # query with  subseq\n",
    "            print('subseq ', self.SUBSEQS[i], ':' , subseq)\n",
    "            \n",
    "            j = bisect.bisect_left(self.index, (subseq, -1))  # binary search\n",
    "            \n",
    "            while j < len(self.index):  # collect matching index entries\n",
    "                if self.index[j][0] != subseq:\n",
    "                    break\n",
    "                hits.append([self.index[j][1], self.SUBSEQS[i]]) #[pos, first or second subseq]\n",
    "                j += 1\n",
    "                            \n",
    "            if  len(hits) > 0:\n",
    "                break\n",
    "                \n",
    "        print('hits',len(hits))\n",
    "        return hits\n"
   ]
  },
  {
   "cell_type": "code",
   "execution_count": 11,
   "metadata": {},
   "outputs": [],
   "source": [
    "def approximate_edit_distance(x, texto, start):\n",
    "    # Create distance matrix\n",
    "    D = []\n",
    "    \n",
    "    #extrai o trecho do texto que corresponde ao trecho do match \n",
    "    y = texto[start:start+len(x)]\n",
    "    \n",
    "    for i in range(len(x)+1):\n",
    "        D.append([0]*(len(y)+1))\n",
    "    # Initialize first row and column of matrix\n",
    "    for i in range(len(x)+1):\n",
    "        D[i][0] = i\n",
    "    for i in range(len(y)+1):\n",
    "        D[0][i] = i\n",
    "    # Fill in the rest of the matrix\n",
    "    for i in range(1, len(x)+1):\n",
    "        for j in range(1, len(y)+1):\n",
    "            distHor = D[i][j-1] + 1\n",
    "            distVer = D[i-1][j] + 1\n",
    "            if x[i-1] == y[j-1]:\n",
    "                distDiag = D[i-1][j-1]\n",
    "            else:\n",
    "                distDiag = D[i-1][j-1] + 1\n",
    "            D[i][j] = min(distHor, distVer, distDiag)\n",
    "    # Edit distance is the value in the bottom right corner of the matrix\n",
    "    return D[-1][-1]\n"
   ]
  },
  {
   "cell_type": "code",
   "execution_count": 12,
   "metadata": {},
   "outputs": [],
   "source": [
    "def leitura_fasta(nome_arquivo):\n",
    "    'Processamento de arquivo fasta e retorno de dicionario com as sequencias lidas'\n",
    "    \n",
    "    sequencias = {}\n",
    "    seq_id = ''\n",
    "    \n",
    "    try:\n",
    "        arquivo_fasta =  open(nome_arquivo)\n",
    "    except 'IOError':\n",
    "       print('Arquivo nao encontrado!') \n",
    "\n",
    "    for linha in arquivo_fasta:\n",
    "        if linha[0] == '>':\n",
    "            seq_id = linha.rstrip()[1:linha.find(' ')]\n",
    "            sequencias[seq_id] = ''\n",
    "        elif linha != '':\n",
    "            sequencias[seq_id] = sequencias[seq_id] + linha.rstrip()\n",
    "    print('quantidade de sequencias lidas=>', len(sequencias))\n",
    "    return sequencias"
   ]
  },
  {
   "cell_type": "code",
   "execution_count": 13,
   "metadata": {},
   "outputs": [
    {
     "name": "stdout",
     "output_type": "stream",
     "text": [
      "quantidade de sequencias lidas=> 1\n"
     ]
    }
   ],
   "source": [
    "#obtem o arquivo fasta\n",
    "arquivo = 'chr1.GRCh38.excerpt.fasta'\n",
    "sequencias = leitura_fasta(arquivo)\n",
    "size = 2\n",
    "span = 1\n",
    "\n",
    "#monta um indice com os dados da sequencia onde começam com a letra \n",
    "index = SubseqIndex(sequencias['CM000663.2_excerpt'], size, span)"
   ]
  },
  {
   "cell_type": "code",
   "execution_count": 14,
   "metadata": {},
   "outputs": [
    {
     "name": "stdout",
     "output_type": "stream",
     "text": [
      "subseq  first : GC\n",
      "hits 26485\n",
      "subseq  first : GA\n",
      "hits 46202\n"
     ]
    }
   ],
   "source": [
    "#busca as entradas no indice (hits) que correspondem aos trechos buscados\n",
    "trecho1 = 'GCTGATCGATCGTACG'\n",
    "trecho2 = 'GATTTACCAGATTGAG'\n",
    "hits1 = index.query(trecho1)\n",
    "hits2 = index.query(trecho2)"
   ]
  },
  {
   "cell_type": "code",
   "execution_count": 15,
   "metadata": {},
   "outputs": [],
   "source": [
    "#para cada hit no indice, calcula a distancia e guarda o resultado\n",
    "distancias_trecho_1 = {}\n",
    "for hit in hits1:\n",
    "    distancia = approximate_edit_distance(trecho1, sequencias['CM000663.2_excerpt'], hit[0])\n",
    "    distancias_trecho_1[hit[0]] = distancia\n",
    "distancias_trecho_1_sorted =  sorted(distancias_trecho_1.items(), key=lambda x: x[1])"
   ]
  },
  {
   "cell_type": "code",
   "execution_count": 16,
   "metadata": {},
   "outputs": [],
   "source": [
    "#para cada hit no indice, calcula a distancia e guarda o resultado\n",
    "distancias_trecho_2 = {}\n",
    "for hit in hits2:\n",
    "    distancia = approximate_edit_distance(trecho2, sequencias['CM000663.2_excerpt'], hit[0])\n",
    "    distancias_trecho_2[hit[0]] = distancia\n",
    "distancias_trecho_2_sorted =  sorted(distancias_trecho_2.items(), key=lambda x: x[1])"
   ]
  },
  {
   "cell_type": "code",
   "execution_count": 17,
   "metadata": {},
   "outputs": [
    {
     "name": "stdout",
     "output_type": "stream",
     "text": [
      "seq: GCTGATGGATAGTAAG pos: 380536 dis: 3\n"
     ]
    }
   ],
   "source": [
    "#Menor distancia do trecho 1:\n",
    "trecho_seq_1 = sequencias['CM000663.2_excerpt'][distancias_trecho_1_sorted[0][0]:distancias_trecho_1_sorted[0][0]+len(trecho1)]\n",
    "print('seq:', trecho_seq_1, 'pos:', distancias_trecho_1_sorted[0][0], 'dis:', distancias_trecho_1_sorted[0][1])"
   ]
  },
  {
   "cell_type": "code",
   "execution_count": null,
   "metadata": {},
   "outputs": [],
   "source": [
    "     "
   ]
  },
  {
   "cell_type": "code",
   "execution_count": 18,
   "metadata": {},
   "outputs": [
    {
     "name": "stdout",
     "output_type": "stream",
     "text": [
      "seq: GATTTACCAAGATTGA pos: 421071 dis: 2\n"
     ]
    }
   ],
   "source": [
    "#Menor distancia do trecho 2:\n",
    "trecho_seq_2 = sequencias['CM000663.2_excerpt'][distancias_trecho_2_sorted[0][0]:distancias_trecho_2_sorted[0][0]+len(trecho2)]\n",
    "print('seq:', trecho_seq_2, 'pos:', distancias_trecho_2_sorted[0][0], 'dis:', distancias_trecho_2_sorted[0][1])"
   ]
  },
  {
   "cell_type": "code",
   "execution_count": null,
   "metadata": {},
   "outputs": [],
   "source": []
  },
  {
   "cell_type": "code",
   "execution_count": null,
   "metadata": {},
   "outputs": [],
   "source": []
  },
  {
   "cell_type": "code",
   "execution_count": null,
   "metadata": {},
   "outputs": [],
   "source": []
  },
  {
   "cell_type": "code",
   "execution_count": null,
   "metadata": {},
   "outputs": [],
   "source": []
  },
  {
   "cell_type": "code",
   "execution_count": null,
   "metadata": {},
   "outputs": [],
   "source": []
  }
 ],
 "metadata": {
  "kernelspec": {
   "display_name": "Python 3",
   "language": "python",
   "name": "python3"
  },
  "language_info": {
   "codemirror_mode": {
    "name": "ipython",
    "version": 3
   },
   "file_extension": ".py",
   "mimetype": "text/x-python",
   "name": "python",
   "nbconvert_exporter": "python",
   "pygments_lexer": "ipython3",
   "version": "3.6.5"
  }
 },
 "nbformat": 4,
 "nbformat_minor": 2
}
