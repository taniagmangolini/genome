{
 "cells": [
  {
   "cell_type": "code",
   "execution_count": 184,
   "metadata": {},
   "outputs": [],
   "source": [
    "def calc_edit_distance_matrix(a, b):\n",
    "    matrix_dist = []\n",
    "    \n",
    "    '''cria matriz num_linhas x num_colunas, tendo:\n",
    "       num_linhas = tamanho de a + 1\n",
    "       num_colunas = tamanho de b + 1'''\n",
    "    for i in range(len(a) + 1):\n",
    "        matrix_dist.append([0] * (len(b) + 1))\n",
    "        \n",
    "    #preenchimento da matrix com as penalidades\n",
    "    \n",
    "    #PRIMEIRA COLUNA: contem penalidades entre os caracteres de a string vazia\n",
    "    for i in range(1, len(a) + 1):\n",
    "        matrix_dist[i][0] = matrix_dist[i - 1][0] + 1\n",
    "        \n",
    "    #PRIMEIRA LINHA: contem penalidades entre os caracteres de b e string vazia\n",
    "    for i in range(1, len(b) + 1):\n",
    "        matrix_dist[0][i] = matrix_dist[0][i - 1] + 1\n",
    "    \n",
    "    for i in range(1, len(a) + 1):\n",
    "        #print('linha', i)\n",
    "        for j in range(1, len(b) + 1):\n",
    "            \n",
    "            #penalidade default\n",
    "            penalidade = 1\n",
    "            \n",
    "            #distancia na horizontal: pega valor adjacente na horizontal (esquerda) e soma a respectiva penalidade\n",
    "            dist_horizontal = matrix_dist[i][j-1] + penalidade\n",
    "\n",
    "            #distancia na vertical: pega o valor adjacente na vertical (esquerda) e soma a respectiva penalidade\n",
    "            dist_vertical   = matrix_dist[i-1][j] + penalidade\n",
    "            \n",
    "            #distancia na diagonal: se forem diferentes soma a respectiva penalidade\n",
    "            if a[i-1] == b[j-1]:\n",
    "                dist_diagonal = matrix_dist[i-1][j-1]\n",
    "            else:\n",
    "                dist_diagonal = matrix_dist[i-1][j-1] + penalidade\n",
    "            \n",
    "            #print(dist_horizontal, dist_vertical, dist_diagonal, min(dist_horizontal, dist_vertical, dist_diagonal) )  \n",
    "            matrix_dist[i][j] = min (dist_horizontal, dist_vertical, dist_diagonal )   \n",
    "    \n",
    "    print(matrix_dist)\n"
   ]
  },
  {
   "cell_type": "code",
   "execution_count": 185,
   "metadata": {},
   "outputs": [
    {
     "name": "stdout",
     "output_type": "stream",
     "text": [
      "[[0, 1, 2, 3, 4, 5, 6, 7], [1, 0, 1, 2, 3, 4, 5, 6], [2, 1, 0, 1, 2, 3, 4, 5], [3, 2, 1, 1, 2, 3, 4, 5], [4, 3, 2, 1, 2, 2, 3, 4], [5, 4, 3, 2, 1, 2, 2, 3], [6, 5, 4, 3, 2, 1, 2, 3], [7, 6, 5, 4, 3, 2, 2, 3], [8, 7, 6, 5, 4, 3, 3, 2]]\n"
     ]
    }
   ],
   "source": [
    "calc_edit_distance_matrix('GCGTATGC', 'GCTATAC')"
   ]
  },
  {
   "cell_type": "code",
   "execution_count": null,
   "metadata": {},
   "outputs": [],
   "source": []
  },
  {
   "cell_type": "code",
   "execution_count": null,
   "metadata": {},
   "outputs": [],
   "source": []
  },
  {
   "cell_type": "code",
   "execution_count": null,
   "metadata": {},
   "outputs": [],
   "source": []
  }
 ],
 "metadata": {
  "kernelspec": {
   "display_name": "Python 3",
   "language": "python",
   "name": "python3"
  },
  "language_info": {
   "codemirror_mode": {
    "name": "ipython",
    "version": 3
   },
   "file_extension": ".py",
   "mimetype": "text/x-python",
   "name": "python",
   "nbconvert_exporter": "python",
   "pygments_lexer": "ipython3",
   "version": "3.6.5"
  }
 },
 "nbformat": 4,
 "nbformat_minor": 2
}
