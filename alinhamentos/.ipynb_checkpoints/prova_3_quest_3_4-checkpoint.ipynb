{
 "cells": [
  {
   "cell_type": "code",
   "execution_count": 1,
   "metadata": {},
   "outputs": [],
   "source": [
    "from itertools import permutations"
   ]
  },
  {
   "cell_type": "code",
   "execution_count": 1,
   "metadata": {},
   "outputs": [],
   "source": [
    "def leitura_fasta_q(fasta_q):\n",
    "    'extrai as sequencias de um arquivo fastaq'\n",
    "    reads = []  \n",
    "    with open (fasta_q) as fq:     \n",
    "        while True:\n",
    "            fq.readline() #skip line\n",
    "            sequencia =  fq.readline().rstrip()\n",
    "            fq.readline() #skip\n",
    "            qualidade= fq.readline().rstrip()\n",
    "            if len(sequencia) == 0 or len(qualidade) == 0:\n",
    "                break\n",
    "            reads.append(sequencia)\n",
    "    return reads"
   ]
  },
  {
   "cell_type": "code",
   "execution_count": 2,
   "metadata": {},
   "outputs": [],
   "source": [
    "def get_kmers(read, n):\n",
    "    'subdivide o texto em strings de tamanho k'\n",
    "    kmers = []\n",
    "    for i in range (len(read) - n + 1):\n",
    "        kmers.append([read[i:i + n],i])\n",
    "    return kmers\n",
    "            "
   ]
  },
  {
   "cell_type": "code",
   "execution_count": 3,
   "metadata": {},
   "outputs": [],
   "source": [
    "def find_overlap(sufix,prefix,n):\n",
    "    '''encontra overlaps de tamanho n entre o sufixo e o prefixo \n",
    "       Ex -  overlap de tamanho 4:\n",
    "           CGCGAAGT (sufixo)\n",
    "               AAGTCCCCCAAA (prefixo)\n",
    "    '''\n",
    "    start = 0\n",
    "    while True:\n",
    "        start =  sufix.find(prefix[:n], start)\n",
    "        \n",
    "        if start == -1: # nao encontrou overlap de tamanho n\n",
    "            return 0\n",
    "        \n",
    "        if prefix.startswith(sufix[start:]):\n",
    "            return len(sufix) - start\n",
    "        \n",
    "        start += 1"
   ]
  },
  {
   "cell_type": "code",
   "execution_count": 4,
   "metadata": {},
   "outputs": [],
   "source": [
    "#obtem as sequencias do fastaq\n",
    "reads =  leitura_fasta_q('ERR266411_1.for_asm.fastq')"
   ]
  },
  {
   "cell_type": "code",
   "execution_count": 5,
   "metadata": {},
   "outputs": [
    {
     "name": "stdout",
     "output_type": "stream",
     "text": [
      "Inicio\n",
      "Tamanho kmer_reads:  4594\n"
     ]
    }
   ],
   "source": [
    "#Para cada read, obtem os kmers de tamanho 6 e adiciona ao dicionario de kmers\n",
    "kmer_reads = {}\n",
    "n = 6 \n",
    "\n",
    "print('Inicio')\n",
    "#associa as reads a cada kmer\n",
    "for read in reads:\n",
    "    kmers = get_kmers(read, 6)\n",
    "    for kmer in kmers:\n",
    "        # inicializa a key no dict, se nao existir\n",
    "        if  kmer[0] not in kmer_reads.keys():\n",
    "            kmer_reads[kmer[0]] = set()\n",
    "            \n",
    "        #adiciona a read    \n",
    "        kmer_reads[kmer[0]].add(read)\n",
    "print('Tamanho kmer_reads: ', len(kmer_reads))"
   ]
  },
  {
   "cell_type": "code",
   "execution_count": 6,
   "metadata": {},
   "outputs": [
    {
     "name": "stdout",
     "output_type": "stream",
     "text": [
      "256\n"
     ]
    }
   ],
   "source": [
    "print(len(kmer_reads['TAAACA']))"
   ]
  },
  {
   "cell_type": "code",
   "execution_count": 7,
   "metadata": {},
   "outputs": [],
   "source": [
    "#para cada read, pega o sufixo e busca no dicionario kmer_reads as outras reads que tem esse kmer\n",
    "overlap_pairs = set()\n",
    "overlap_by_read = {}\n",
    "for read in reads:\n",
    "    start = len(read) - n\n",
    "    sufixo = read[start:]\n",
    "    reads_com_sufixo = kmer_reads[sufixo]\n",
    "    overlap_by_read[read] = 0\n",
    "    for r in reads_com_sufixo:\n",
    "        if r != read:\n",
    "            overlap = find_overlap(read, r, 30)\n",
    "            if overlap > 0 :\n",
    "                overlap_pairs.add((read, r))\n",
    "                overlap_by_read[read] += 1"
   ]
  },
  {
   "cell_type": "code",
   "execution_count": 9,
   "metadata": {},
   "outputs": [
    {
     "name": "stdout",
     "output_type": "stream",
     "text": [
      "904746\n"
     ]
    }
   ],
   "source": [
    "print(len(overlap_pairs))"
   ]
  },
  {
   "cell_type": "code",
   "execution_count": 10,
   "metadata": {},
   "outputs": [],
   "source": [
    "#print(overlap_by_read['AACAAGCAGTAGTAATTCCTGCTTTATCAAGATAATTTTTCGACTCATCAGAAATATCCGAAAGTGTTAACTTCTGCGTCATGGAAGCGATAAAACTCTG'])"
   ]
  },
  {
   "cell_type": "code",
   "execution_count": 11,
   "metadata": {},
   "outputs": [
    {
     "name": "stdout",
     "output_type": "stream",
     "text": [
      "7161\n"
     ]
    }
   ],
   "source": [
    "#obtem quantos sufixos tiveram overlaps\n",
    "sufixos_com_overlaps =0 \n",
    "for i, j in overlap_by_read.items():\n",
    "    if j > 0:\n",
    "        sufixos_com_overlaps += 1\n",
    "        \n",
    "print(sufixos_com_overlaps)"
   ]
  },
  {
   "cell_type": "code",
   "execution_count": null,
   "metadata": {},
   "outputs": [],
   "source": []
  },
  {
   "cell_type": "code",
   "execution_count": null,
   "metadata": {},
   "outputs": [],
   "source": []
  }
 ],
 "metadata": {
  "kernelspec": {
   "display_name": "Python 3",
   "language": "python",
   "name": "python3"
  },
  "language_info": {
   "codemirror_mode": {
    "name": "ipython",
    "version": 3
   },
   "file_extension": ".py",
   "mimetype": "text/x-python",
   "name": "python",
   "nbconvert_exporter": "python",
   "pygments_lexer": "ipython3",
   "version": "3.6.5"
  }
 },
 "nbformat": 4,
 "nbformat_minor": 2
}
