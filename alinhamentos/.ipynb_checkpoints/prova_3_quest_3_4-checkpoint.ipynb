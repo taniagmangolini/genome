{
 "cells": [
  {
   "cell_type": "code",
   "execution_count": 20,
   "metadata": {},
   "outputs": [],
   "source": [
    "from itertools import permutations"
   ]
  },
  {
   "cell_type": "code",
   "execution_count": 21,
   "metadata": {},
   "outputs": [],
   "source": [
    "def leitura_fasta_q(fasta_q):\n",
    "    'extrai as sequencias de um arquivo fastaq'\n",
    "    reads = []  \n",
    "    with open (fasta_q) as fq:     \n",
    "        while True:\n",
    "            fq.readline() #skip line\n",
    "            sequencia =  fq.readline().rstrip()\n",
    "            fq.readline() #skip\n",
    "            qualidade= fq.readline().rstrip()\n",
    "            if len(sequencia) == 0 or len(qualidade) == 0:\n",
    "                break\n",
    "            reads.append(sequencia)\n",
    "    return reads"
   ]
  },
  {
   "cell_type": "code",
   "execution_count": 39,
   "metadata": {},
   "outputs": [],
   "source": [
    "'''Dada uma sequencia e um trecho de interesse, encontrar os hits na sequencia e \n",
    " e calcular as distancias entre os hits e o trecho de interesse'''\n",
    "import bisect\n",
    "   \n",
    "class SubseqIndex(object):\n",
    "    \n",
    "    TOTAL_SUBSEQS = 2\n",
    "    SUBSEQS = {0: 'first', 1:'second'}\n",
    "\n",
    "    def __init__(self, t, k, ival):\n",
    "        \"\"\"ival: intervalo entre os caracteres do texto \n",
    "           k: quantidade de caracteres na chave do indice\n",
    "           t: texto\n",
    "        Transforma um texto em um indice, cujos elementos sao subsequencias do tamanho (k)\n",
    "        e extraidas de forma sequencial, respeitando o espaco  definido  entre os caracteres (ival).\n",
    "        Permite apenas realizar buscas exatas.\n",
    "        Ex: SubseqIndex(\"ATAT\", 2, 2)  retorna indice (\"AA\", 0) and (\"TT\", 1)\"\"\"\n",
    "        self.k = k  # num characters per subsequence \n",
    "        self.ival = ival  # space between them; 1=adjacent, 2=every other, etc\n",
    "        self.index = []\n",
    "        self.span = 1 + ival * (k - 1)\n",
    "        for i in range(len(t) - self.span + 1):  # for each subseq\n",
    "            self.index.append((t[i:i+self.span:ival], i))  # add (subseq, offset)\n",
    "\n",
    "        self.index.sort()  # alphabetize by subseq\n",
    "    \n",
    "    def query(self, p):\n",
    "        '''p: padrao buscado\n",
    "        Obtem os indices encontrados para determinada busca. Para isso,\n",
    "        extrai subsequencia do trecho buscado considerando o mesmo padrao que foi usado \n",
    "        para a montagem do indice. Em seguida, faz a busca no indice. Se nao encontrar, \n",
    "        faz uma nova tentativa, porem começando a subsequencia do segundo caracter. \n",
    "        Retorna os hits e se foi na primeira ou na segunda subsequencia '''\n",
    "        hits = []\n",
    "\n",
    "        for i in range (self.TOTAL_SUBSEQS):\n",
    "            \n",
    "            subseq = p[i:i+self.span:self.ival]  # query with  subseq\n",
    "           # print('subseq ', self.SUBSEQS[i], ':' , subseq)\n",
    "            \n",
    "            j = bisect.bisect_left(self.index, (subseq, -1))  # binary search\n",
    "            \n",
    "            while j < len(self.index):  # collect matching index entries\n",
    "                if self.index[j][0] != subseq:\n",
    "                    break\n",
    "                hits.append([self.index[j][1], self.SUBSEQS[i]]) #[pos, first or second subseq]\n",
    "                j += 1\n",
    "                            \n",
    "            if  len(hits) > 0:\n",
    "                break\n",
    "                \n",
    "       # print('hits',len(hits))\n",
    "        return hits\n"
   ]
  },
  {
   "cell_type": "code",
   "execution_count": 40,
   "metadata": {},
   "outputs": [],
   "source": [
    "def find_overlap(sufix,prefix,n):\n",
    "    '''encontra overlaps de tamanho n entre o sufixo e o prefixo \n",
    "       Ex -  overlap de tamanho 4:\n",
    "           CGCGAAGT (sufixo)\n",
    "               AAGTCCCCCAAA (prefixo)\n",
    "    '''\n",
    "    start = 0\n",
    "    while True:\n",
    "        start =  sufix.find(prefix[:n], start)\n",
    "        \n",
    "        if start == -1: # nao encontrou overlap de tamanho n\n",
    "            return 0\n",
    "        \n",
    "        if prefix.startswith(sufix[start:]):\n",
    "            return len(sufix) - start\n",
    "        \n",
    "        start += 1"
   ]
  },
  {
   "cell_type": "code",
   "execution_count": 41,
   "metadata": {},
   "outputs": [],
   "source": [
    "def find_all_overlaps (reads, n):\n",
    "    '''Obtem um conjunto de reads, permuta as reads par a par, verificando o overlap entre elas'''\n",
    "    \n",
    "    overlaps = {}\n",
    "    permuts =  []\n",
    "    \n",
    "    for sufix, prefix in permutations (reads, 2):\n",
    "        permuts.append([sufix, prefix])\n",
    "    for pair in permuts:\n",
    "        print('sufix', pair[0], 'prefix', pair[1])\n",
    "        overlap = find_overlap(pair[0], pair[1], n)\n",
    "        if overlap > 0:\n",
    "            overlaps[(pair[0], pair[1])] = overlap\n",
    "    return overlaps"
   ]
  },
  {
   "cell_type": "code",
   "execution_count": 42,
   "metadata": {},
   "outputs": [],
   "source": [
    "#obtem as sequencias do fastaq\n",
    "reads =  leitura_fasta_q('ERR266411_1.for_asm.fastq')\n",
    "all_reads = ''.join(reads)"
   ]
  },
  {
   "cell_type": "code",
   "execution_count": 43,
   "metadata": {},
   "outputs": [],
   "source": [
    "#para cada read, monta um indice de k-mers de tamanho n\n",
    "read_hits = {}\n",
    "span = 1\n",
    "n = 6\n",
    "\n",
    "#cria um dicionario a partir de todas as reads lidas tendo cada kmer=6\n",
    "index = SubseqIndex(all_reads, n, span)"
   ]
  },
  {
   "cell_type": "code",
   "execution_count": 44,
   "metadata": {},
   "outputs": [],
   "source": [
    "#para cada read busca os hits no indice e adiciona ao dicionario seq_hits\n",
    "seq_hits = {}\n",
    "for read in reads:\n",
    "    hits = index.query(read)\n",
    "    seq_hits[read] = hits[0]"
   ]
  },
  {
   "cell_type": "code",
   "execution_count": 9,
   "metadata": {},
   "outputs": [],
   "source": [
    "#encontra os overlaps de tamanho n\n",
    "#find_all_overlaps(reads, 6)"
   ]
  },
  {
   "cell_type": "code",
   "execution_count": null,
   "metadata": {},
   "outputs": [],
   "source": [
    "\n"
   ]
  },
  {
   "cell_type": "code",
   "execution_count": null,
   "metadata": {},
   "outputs": [],
   "source": []
  },
  {
   "cell_type": "code",
   "execution_count": null,
   "metadata": {},
   "outputs": [],
   "source": []
  }
 ],
 "metadata": {
  "kernelspec": {
   "display_name": "Python 3",
   "language": "python",
   "name": "python3"
  },
  "language_info": {
   "codemirror_mode": {
    "name": "ipython",
    "version": 3
   },
   "file_extension": ".py",
   "mimetype": "text/x-python",
   "name": "python",
   "nbconvert_exporter": "python",
   "pygments_lexer": "ipython3",
   "version": "3.6.5"
  }
 },
 "nbformat": 4,
 "nbformat_minor": 2
}
