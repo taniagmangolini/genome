{
 "cells": [
  {
   "cell_type": "code",
   "execution_count": 1,
   "metadata": {},
   "outputs": [],
   "source": [
    "def hamming_distance(a,b):\n",
    "    diff = 0\n",
    "    for i in range(len(a)):\n",
    "        if a[i] != b[i]:\n",
    "            diff += 1\n",
    "    return diff\n",
    "        "
   ]
  },
  {
   "cell_type": "code",
   "execution_count": 2,
   "metadata": {},
   "outputs": [
    {
     "data": {
      "text/plain": [
       "2"
      ]
     },
     "execution_count": 2,
     "metadata": {},
     "output_type": "execute_result"
    }
   ],
   "source": [
    "hamming_distance('AAABAC', 'AABCAC')"
   ]
  },
  {
   "cell_type": "code",
   "execution_count": 31,
   "metadata": {},
   "outputs": [],
   "source": [
    "def edit_distance_recursive(a,b):\n",
    "    'calcula edit distance de forma recursiva, mas é lenta para strings grandes'\n",
    "    \n",
    "    #se uma delas for zero, retorna a quantidade de caracteres que restou da outra\n",
    "    if len(a) == 0:\n",
    "     #  print('return b ', len(b))\n",
    "        return len(b)\n",
    "    \n",
    "    if len(b) == 0:\n",
    "      # print('return a ',len(a))\n",
    "        return len(a)\n",
    "    \n",
    "    #se o caracter na posicao -1 for igual, delta é zero, caso contrario é 1\n",
    "    delta = 1 if a[-1] != b[-1] else 0\n",
    "    #print('delta', delta,  a,  b)\n",
    "    return min (\n",
    "                edit_distance_recursive ( a[:-1], b[:-1] ) + delta, \n",
    "                edit_distance_recursive ( a[:-1], b ) +1,\n",
    "                edit_distance_recursive ( a, b[:-1] ) +1\n",
    "               )\n"
   ]
  },
  {
   "cell_type": "code",
   "execution_count": 32,
   "metadata": {},
   "outputs": [
    {
     "name": "stdout",
     "output_type": "stream",
     "text": [
      "3\n",
      "2\n"
     ]
    }
   ],
   "source": [
    "a = 'A'\n",
    "b = 'AAA'\n",
    "edit = edit_distance_recursive(a, b)\n",
    "print(edit)"
   ]
  },
  {
   "cell_type": "code",
   "execution_count": null,
   "metadata": {},
   "outputs": [],
   "source": []
  },
  {
   "cell_type": "code",
   "execution_count": null,
   "metadata": {},
   "outputs": [],
   "source": []
  },
  {
   "cell_type": "code",
   "execution_count": null,
   "metadata": {},
   "outputs": [],
   "source": []
  }
 ],
 "metadata": {
  "kernelspec": {
   "display_name": "Python 3",
   "language": "python",
   "name": "python3"
  },
  "language_info": {
   "codemirror_mode": {
    "name": "ipython",
    "version": 3
   },
   "file_extension": ".py",
   "mimetype": "text/x-python",
   "name": "python",
   "nbconvert_exporter": "python",
   "pygments_lexer": "ipython3",
   "version": "3.6.5"
  }
 },
 "nbformat": 4,
 "nbformat_minor": 2
}
