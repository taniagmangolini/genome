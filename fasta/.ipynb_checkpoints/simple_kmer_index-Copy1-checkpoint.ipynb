{
 "cells": [
  {
   "cell_type": "code",
   "execution_count": 1,
   "metadata": {},
   "outputs": [],
   "source": [
    "import bisect\n",
    "\n",
    "class Index (object):\n",
    "    'indice com todas as palavras de tamanho k existentes no texto t'\n",
    "    \n",
    "    def __init__(self, t, k):\n",
    "        self.k = k\n",
    "        self.index = self.get_kmers(t)\n",
    "    \n",
    "    def get_kmers(self, t):\n",
    "        'subdivide o texto em strings de tamanho k'\n",
    "        kmers = []\n",
    "        for i in range (len(t) - self.k + 1):\n",
    "            kmers.append([t[i:i + self.k],i])\n",
    "        kmers.sort()\n",
    "        return kmers\n",
    "    \n",
    "    def query_index(self, p):\n",
    "        'busca a palavra p no índice usando binary search'\n",
    "        hits = []\n",
    "        #extrai o kmer de tamanho k da palavra p\n",
    "        kmer = p[:self.k]\n",
    "        print('kmer:' , kmer)\n",
    "        # pegar a posicao na qual a lista [kmer,-1] poderia ser inserida no indice\n",
    "        i = bisect.bisect_left(self.index, [kmer,-1])\n",
    "        \n",
    "        # obtem no indice todos os registros igual ao kmer procurado\n",
    "        while i < len(self.index):\n",
    "            if self.index[i][0] == kmer:\n",
    "                hits.append(self.index[i][1])\n",
    "            i += 1\n",
    "            \n",
    "        return hits\n",
    "    \n",
    "    def busca_palavra (self, t, p):\n",
    "        'retorna as posicoes do texto que contem a palavra buscada'\n",
    "        matches = []\n",
    "        \n",
    "        #obtem as posicoes do indice que contem o kmer ( : p[self.k]) da palavra \n",
    "        hits = index.query_index(p)\n",
    "        print('hits', hits, ' count:', len(hits))\n",
    "        \n",
    "        #obtem o tamanho da palavra ao remover o trecho do kmer\n",
    "        print('k ',self.k)\n",
    "        offset = len( p[self.k : ] )\n",
    "        print('offset ',offset)\n",
    "        \n",
    "        #para cada hit confirma o match da palavra \n",
    "        for hit in hits:\n",
    "            pos_kmer_in_t = hit + self.k \n",
    "            print(p[self.k : ], t[ pos_kmer_in_t : pos_kmer_in_t + offset ])\n",
    "            if p[self.k : ] == t[ pos_kmer_in_t : pos_kmer_in_t + offset ]:\n",
    "                matches.append([hit, pos_kmer_in_t + offset])\n",
    "        return matches\n"
   ]
  },
  {
   "cell_type": "code",
   "execution_count": 2,
   "metadata": {},
   "outputs": [],
   "source": [
    "def leitura_fasta(nome_arquivo):\n",
    "    'Processamento de arquivo fasta e retorno de dicionario com as sequencias lidas'\n",
    "    \n",
    "    sequencias = {}\n",
    "    seq_id = ''\n",
    "    \n",
    "    try:\n",
    "        arquivo_fasta =  open(nome_arquivo)\n",
    "    except 'IOError':\n",
    "       print('Arquivo nao encontrado!') \n",
    "\n",
    "    for linha in arquivo_fasta:\n",
    "        if linha[0] == '>':\n",
    "            seq_id = linha.rstrip()[1:linha.find(' ')]\n",
    "            sequencias[seq_id] = ''\n",
    "        elif linha != '':\n",
    "            sequencias[seq_id] = sequencias[seq_id] + linha.rstrip()\n",
    "    return sequencias[seq_id]"
   ]
  },
  {
   "cell_type": "code",
   "execution_count": 17,
   "metadata": {},
   "outputs": [],
   "source": [
    "texto='AATCGGCCAGGCCCATTA'\n",
    "palavra = 'GGCC'\n",
    "\n",
    "#cria um indice contendo trechos (kmers) de tamanho 2 e com as respectivas posicoes\n",
    "index =  Index(texto, 2)"
   ]
  },
  {
   "cell_type": "code",
   "execution_count": 18,
   "metadata": {},
   "outputs": [
    {
     "name": "stdout",
     "output_type": "stream",
     "text": [
      "kmer: GG\n",
      "hits [4, 9]  count: 2\n",
      "k  2\n",
      "offset  2\n",
      "CC CC\n",
      "CC CC\n",
      "posicao: [4, 8] , trecho:  GGCC\n",
      "posicao: [9, 13] , trecho:  GGCC\n"
     ]
    }
   ],
   "source": [
    "#procura pela palavra no texto\n",
    "matches  = index.busca_palavra(texto, palavra)\n",
    "for match in matches:\n",
    "    print('posicao:', match, ', trecho: ', texto [match[0] : match[1]] )"
   ]
  },
  {
   "cell_type": "code",
   "execution_count": 19,
   "metadata": {},
   "outputs": [
    {
     "name": "stdout",
     "output_type": "stream",
     "text": [
      "799993\n"
     ]
    }
   ],
   "source": [
    "#cria um indice contendo trechos (kmers) de tamanho 8 a partir de um fasta\n",
    "t=leitura_fasta('chr1.GRCh38.excerpt.fasta')\n",
    "index =  Index(t, 8)\n",
    "print(len(index.index))"
   ]
  },
  {
   "cell_type": "code",
   "execution_count": 20,
   "metadata": {},
   "outputs": [
    {
     "name": "stdout",
     "output_type": "stream",
     "text": [
      "kmer: GGCGCGGT\n",
      "hits [56922, 57056, 83720, 84641, 147558, 160729, 191452, 262042, 364263, 657496, 681737, 717706, 725061]  count: 13\n",
      "k  8\n",
      "offset  16\n",
      "GGCTCACGCCTGTAAT GGCTCACGCCTGTAAT\n",
      "GGCTCACGCCTGTAAT GGCAGGCGCCTGTAGT\n",
      "GGCTCACGCCTGTAAT GATTCATGCCTGTAAT\n",
      "GGCTCACGCCTGTAAT GGCTCATGCCTGTAAT\n",
      "GGCTCACGCCTGTAAT GGCTCATGCCTGTAAT\n",
      "GGCTCACGCCTGTAAT GGCTCACACCTGTAAT\n",
      "GGCTCACGCCTGTAAT GGTTCACGCCTGTAAT\n",
      "GGCTCACGCCTGTAAT GGCTCACGCCTGTAAT\n",
      "GGCTCACGCCTGTAAT GGCTCACGCCTGTAAT\n",
      "GGCTCACGCCTGTAAT GGCTCACGCCTGTAAT\n",
      "GGCTCACGCCTGTAAT GGCTCATGCCTGTAAT\n",
      "GGCTCACGCCTGTAAT GGCTCACGCCTGTAAT\n",
      "GGCTCACGCCTGTAAT GGCAGGCGCCTGTAGT\n",
      "[[56922, 56946], [262042, 262066], [364263, 364287], [657496, 657520], [717706, 717730]]\n"
     ]
    }
   ],
   "source": [
    "p = 'GGCGCGGTGGCTCACGCCTGTAAT'\n",
    "matches  = index.busca_palavra(t, p)\n",
    "print(matches)"
   ]
  },
  {
   "cell_type": "code",
   "execution_count": 21,
   "metadata": {},
   "outputs": [
    {
     "name": "stdout",
     "output_type": "stream",
     "text": [
      "posicao: [56922, 56946] , trecho:  GGCGCGGTGGCTCACGCCTGTAAT\n",
      "posicao: [262042, 262066] , trecho:  GGCGCGGTGGCTCACGCCTGTAAT\n",
      "posicao: [364263, 364287] , trecho:  GGCGCGGTGGCTCACGCCTGTAAT\n",
      "posicao: [657496, 657520] , trecho:  GGCGCGGTGGCTCACGCCTGTAAT\n",
      "posicao: [717706, 717730] , trecho:  GGCGCGGTGGCTCACGCCTGTAAT\n"
     ]
    }
   ],
   "source": [
    "for match in matches:\n",
    "    print('posicao:', match, ', trecho: ', t [match[0] : match[1]] )"
   ]
  },
  {
   "cell_type": "code",
   "execution_count": null,
   "metadata": {},
   "outputs": [],
   "source": []
  }
 ],
 "metadata": {
  "kernelspec": {
   "display_name": "Python 3",
   "language": "python",
   "name": "python3"
  },
  "language_info": {
   "codemirror_mode": {
    "name": "ipython",
    "version": 3
   },
   "file_extension": ".py",
   "mimetype": "text/x-python",
   "name": "python",
   "nbconvert_exporter": "python",
   "pygments_lexer": "ipython3",
   "version": "3.6.5"
  }
 },
 "nbformat": 4,
 "nbformat_minor": 2
}
