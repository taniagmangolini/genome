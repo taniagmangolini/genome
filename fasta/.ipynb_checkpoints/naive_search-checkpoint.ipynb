{
 "cells": [
  {
   "cell_type": "code",
   "execution_count": 1,
   "metadata": {},
   "outputs": [],
   "source": [
    "def leitura_fasta(nome_arquivo):\n",
    "    'Processamento de arquivo fasta e retorno de dicionario com as sequencias lidas'\n",
    "    sequencias = {}\n",
    "    seq_id = ''\n",
    "    \n",
    "    try:\n",
    "        arquivo_fasta =  open(nome_arquivo)\n",
    "    except 'IOError':\n",
    "       print('Arquivo nao encontrado!') \n",
    "\n",
    "    for linha in arquivo_fasta:\n",
    "        if linha[0] == '>':\n",
    "            seq_id = linha.rstrip()[1:linha.find(' ')]\n",
    "            sequencias[seq_id] = ''\n",
    "        elif linha != '':\n",
    "            sequencias[seq_id] = sequencias[seq_id] + linha.rstrip()\n",
    "    return sequencias[seq_id]"
   ]
  },
  {
   "cell_type": "code",
   "execution_count": 2,
   "metadata": {},
   "outputs": [],
   "source": [
    "def encontrar_repeticoes_palavra(sequencia, palavra):\n",
    "    'encontrar repetições da palavra'\n",
    "    repeticoes_palavra = []\n",
    "    nr_comparacoes = 0\n",
    "    nr_alinhamentos = 0\n",
    "    for i in range (len(sequencia) - len(palavra) + 1):\n",
    "        encontrou = True\n",
    "        nr_alinhamentos += 1\n",
    "        for j in range(len(palavra)):\n",
    "            nr_comparacoes += 1\n",
    "            if sequencia[i+j] != palavra[j]:\n",
    "                encontrou = False\n",
    "                break\n",
    "        if encontrou: \n",
    "            repeticoes_palavra.append(i)\n",
    "        \n",
    "    return repeticoes_palavra, nr_comparacoes, nr_alinhamentos"
   ]
  },
  {
   "cell_type": "code",
   "execution_count": 9,
   "metadata": {},
   "outputs": [],
   "source": [
    "t = leitura_fasta('chr1.GRCh38.excerpt.fasta')"
   ]
  },
  {
   "cell_type": "code",
   "execution_count": 10,
   "metadata": {},
   "outputs": [
    {
     "name": "stdout",
     "output_type": "stream",
     "text": [
      "[56922] 799954 984143\n"
     ]
    }
   ],
   "source": [
    "#Naive exato\n",
    "p = 'GGCGCGGTGGCTCACGCCTGTAATCCCAGCACTTTGGGAGGCCGAGG'\n",
    "repeticoes_palavra, nr_comparacoes, nr_alinhamentos = encontrar_repeticoes_palavra(t,p)\n",
    "print(repeticoes_palavra, nr_alinhamentos, nr_comparacoes)"
   ]
  },
  {
   "cell_type": "code",
   "execution_count": null,
   "metadata": {},
   "outputs": [],
   "source": []
  },
  {
   "cell_type": "code",
   "execution_count": null,
   "metadata": {},
   "outputs": [],
   "source": []
  },
  {
   "cell_type": "code",
   "execution_count": null,
   "metadata": {},
   "outputs": [],
   "source": []
  }
 ],
 "metadata": {
  "kernelspec": {
   "display_name": "Python 3",
   "language": "python",
   "name": "python3"
  },
  "language_info": {
   "codemirror_mode": {
    "name": "ipython",
    "version": 3
   },
   "file_extension": ".py",
   "mimetype": "text/x-python",
   "name": "python",
   "nbconvert_exporter": "python",
   "pygments_lexer": "ipython3",
   "version": "3.6.5"
  }
 },
 "nbformat": 4,
 "nbformat_minor": 2
}
