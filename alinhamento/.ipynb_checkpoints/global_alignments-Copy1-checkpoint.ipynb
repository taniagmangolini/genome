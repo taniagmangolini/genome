{
 "cells": [
  {
   "cell_type": "code",
   "execution_count": 3,
   "metadata": {},
   "outputs": [],
   "source": [
    "alfabeto = ['A', 'C', 'G', 'T', 'GAP']\n",
    "'''\n",
    "Piramidinas: T, C\n",
    "Purina: A, G\n",
    "Penalidades:\n",
    "- transicoes = 2 (A <=> G, C <=> T)\n",
    "- transversoes = 4  (A <=> C , A <=> T , G <=> T , G <=> C)\n",
    "- gaps = 8 (insercoes, delecoes)\n",
    "\n",
    "    A  C  G  T SKIP\n",
    "   A[0, 4, 2, 4, 8]\n",
    "   C[4, 0, 4, 2, 8]\n",
    "   G[2, 4. 0, 4, 8]\n",
    "   T[4, 2, 4, 0, 8]\n",
    "SKIP[8, 8, 8, 8, 8]\n",
    "\n",
    "Exemplo de alinhamento global entre ABC e ABDC\n",
    "obs: a primeira linha e a primeira coluna sao gaps\n",
    "   GAP  A   C  C   G\n",
    "GAP 0   8  16 24  32\n",
    "  A 8   0   \n",
    "  C 16\n",
    "  C 24\n",
    "\n",
    "'''\n",
    "penalty_matrix =[[0, 4, 2, 4, 8], \n",
    "                 [4, 0, 4, 2, 8],\n",
    "                 [2, 4, 0, 4, 8], \n",
    "                 [4, 2, 4, 0, 8],\n",
    "                 [8, 8, 8, 8, 8]]"
   ]
  },
  {
   "cell_type": "code",
   "execution_count": 8,
   "metadata": {},
   "outputs": [],
   "source": [
    "def global_aligment(a, b):\n",
    "    matrix_dist = []\n",
    "    \n",
    "    '''cria matriz num_linhas x num_colunas, tendo:\n",
    "       num_linhas = tamanho de a + 1\n",
    "       num_colunas = tamanho de b + 1'''\n",
    "    for i in range(len(a) + 1):\n",
    "        matrix_dist.append([0] * (len(b) + 1))\n",
    "        \n",
    "    #preenchimento da matrix com as penalidades\n",
    "    \n",
    "    #PRIMEIRA COLUNA: preenche a primeira coluna com as penalidades de pular (skip) os caracteres\n",
    "    #O valor da celula atual e o valor do caracter acima,  somado a penalidade de skipping\n",
    "    for i in range(1, len(a) + 1):\n",
    "        matrix_dist[i][0] = matrix_dist[i - 1][0] + penalty_matrix[alfabeto.index(a[i-1])][-1]\n",
    "        \n",
    "    #PRIMEIRA LINHA: preenche a primeira linha com penalidades de pular (skip) os caracteres\n",
    "    #O valor da celula atual e o valor do caracter acima,  somado a penalidade de skipping\n",
    "    for i in range(1, len(b) + 1):\n",
    "        matrix_dist[0][i] = matrix_dist[0][i - 1] + penalty_matrix[-1][alfabeto.index(b[i-1])]\n",
    "    \n",
    "    for i in range(1, len(a) + 1):\n",
    "        for j in range(1, len(b) + 1):\n",
    "\n",
    "            #distancia na horizontal: pega valor adjacente na horizontal (esquerda) e soma a penalidade de pular o caracter atual (8)\n",
    "            dist_horizontal   = matrix_dist[i][j-1] + penalty_matrix[alfabeto.index(b[j-1])][-1]\n",
    "            #distancia na vertical: pega o valor adjacente na vertical (esquerda) e soma a  penalidade de pular  o caracter atual (8)\n",
    "            dist_vertical   = matrix_dist[i-1][j] + penalty_matrix[-1][alfabeto.index(a[i-1])]\n",
    "            \n",
    "            #distancia na diagonal: se forem iguais, pega o valor da diagonal \n",
    "            if a[i-1] == b[j-1]:\n",
    "                dist_diagonal = matrix_dist[i-1][j-1]\n",
    "            else:\n",
    "            # se forem diferentes, pega o valor da diagonal e soma a respectiva penalidade entre os respectivos caracteres\n",
    "                dist_diagonal = matrix_dist[i-1][j-1] +  penalty_matrix[alfabeto.index(a[i-1])][alfabeto.index(b[j-1])]\n",
    "            \n",
    "            matrix_dist[i][j] = min (dist_horizontal, dist_vertical, dist_diagonal )   \n",
    "    \n",
    "    print(matrix_dist)\n",
    "    return matrix_dist[-1][-1]"
   ]
  },
  {
   "cell_type": "code",
   "execution_count": 9,
   "metadata": {},
   "outputs": [
    {
     "name": "stdout",
     "output_type": "stream",
     "text": [
      "[[0, 8, 16, 24, 32, 40, 48, 56, 64, 72, 80], [8, 0, 8, 16, 24, 32, 40, 48, 56, 64, 72], [16, 8, 0, 8, 16, 24, 32, 40, 48, 56, 64], [24, 16, 8, 2, 10, 18, 24, 32, 40, 48, 56], [32, 24, 16, 10, 2, 10, 18, 26, 34, 40, 48], [40, 32, 24, 16, 10, 2, 10, 18, 26, 34, 42], [48, 40, 32, 24, 18, 10, 2, 10, 18, 26, 34], [56, 48, 40, 32, 26, 18, 10, 2, 10, 18, 26], [64, 56, 48, 40, 32, 26, 18, 10, 6, 10, 18], [72, 64, 56, 48, 40, 34, 26, 18, 12, 10, 10]]\n"
     ]
    },
    {
     "data": {
      "text/plain": [
       "10"
      ]
     },
     "execution_count": 9,
     "metadata": {},
     "output_type": "execute_result"
    }
   ],
   "source": [
    "global_aligment('TACGTCAGC', 'TATGTCATGC')"
   ]
  },
  {
   "cell_type": "code",
   "execution_count": 12,
   "metadata": {},
   "outputs": [
    {
     "name": "stdout",
     "output_type": "stream",
     "text": [
      "[[0, 8, 16, 24, 32, 40, 48, 56, 64, 72, 80, 88, 96], [8, 0, 8, 16, 24, 32, 40, 48, 56, 64, 72, 80, 88], [16, 8, 0, 8, 16, 24, 32, 40, 48, 56, 64, 72, 80], [24, 16, 8, 0, 8, 16, 24, 32, 40, 48, 56, 64, 72], [32, 24, 16, 8, 0, 8, 16, 24, 32, 40, 48, 56, 64], [40, 32, 24, 16, 8, 0, 8, 16, 24, 32, 40, 48, 56], [48, 40, 32, 24, 16, 8, 0, 8, 16, 24, 32, 40, 48], [56, 48, 40, 32, 24, 16, 8, 0, 8, 16, 24, 32, 40], [64, 56, 48, 40, 32, 24, 16, 8, 0, 8, 16, 24, 32], [72, 64, 56, 48, 40, 32, 24, 16, 8, 0, 8, 16, 24], [80, 72, 64, 56, 48, 40, 32, 24, 16, 8, 0, 8, 16], [88, 80, 72, 64, 56, 48, 40, 32, 24, 16, 8, 0, 8], [96, 88, 80, 72, 64, 56, 48, 40, 32, 24, 16, 8, 0]]\n"
     ]
    },
    {
     "data": {
      "text/plain": [
       "0"
      ]
     },
     "execution_count": 12,
     "metadata": {},
     "output_type": "execute_result"
    }
   ],
   "source": [
    "#strings iguais\n",
    "global_aligment('TACCAGATTCGA', 'TACCAGATTCGA')"
   ]
  },
  {
   "cell_type": "code",
   "execution_count": null,
   "metadata": {},
   "outputs": [],
   "source": []
  },
  {
   "cell_type": "code",
   "execution_count": null,
   "metadata": {},
   "outputs": [],
   "source": []
  },
  {
   "cell_type": "code",
   "execution_count": null,
   "metadata": {},
   "outputs": [],
   "source": []
  }
 ],
 "metadata": {
  "kernelspec": {
   "display_name": "Python 3",
   "language": "python",
   "name": "python3"
  },
  "language_info": {
   "codemirror_mode": {
    "name": "ipython",
    "version": 3
   },
   "file_extension": ".py",
   "mimetype": "text/x-python",
   "name": "python",
   "nbconvert_exporter": "python",
   "pygments_lexer": "ipython3",
   "version": "3.6.5"
  }
 },
 "nbformat": 4,
 "nbformat_minor": 2
}
