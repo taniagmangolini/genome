{
 "cells": [
  {
   "cell_type": "code",
   "execution_count": 1,
   "metadata": {},
   "outputs": [],
   "source": [
    "import bisect\n",
    "\n",
    "class Index (object):\n",
    "    'indice com todas as palavras de tamanho k existentes no texto t'\n",
    "    \n",
    "    def __init__(self, t, k):\n",
    "        self.k = k\n",
    "        self.index = self.get_kmers(t)\n",
    "        print(self.index)\n",
    "    \n",
    "    def get_kmers(self, t):\n",
    "        'subdivide o texto em strings de tamanho k'\n",
    "        kmers = []\n",
    "        for i in range (len(t) - self.k + 1):\n",
    "            kmers.append([t[i:i + self.k],i])\n",
    "        kmers.sort()\n",
    "        return kmers\n",
    "    \n",
    "    def query_index(self, p):\n",
    "        'busca a palavra p no índice usando binary search'\n",
    "        hits = []\n",
    "        #extrai o kmer de tamanho k da palavra p\n",
    "        kmer = p[:self.k]\n",
    "        \n",
    "        # pegar a posicao na qual a lista [kmer,-1] poderia ser inserida no indice\n",
    "        i = bisect.bisect_left(self.index, [kmer,-1])\n",
    "        \n",
    "        # obtem no indice todos os registros igual ao kmer procurado\n",
    "        while i < len(self.index):\n",
    "            if self.index[i][0] == kmer:\n",
    "                hits.append(self.index[i][1])\n",
    "            i += 1\n",
    "            \n",
    "        return hits\n",
    "    \n",
    "    def busca_palavra (self, t, p):\n",
    "        'retorna as posicoes do texto que contem a palavra buscada'\n",
    "        matches = []\n",
    "        \n",
    "        #obtem as posicoes do indice que contem o kmer ( : p[self.k]) da palavra \n",
    "        hits = index.query_index(p)\n",
    "        \n",
    "        #obtem o tamanho da palavra ao remover o trecho do kmer\n",
    "        offset = len( p[self.k : ] )\n",
    "        \n",
    "        #para cada hit confirma o match da palavra \n",
    "        for hit in hits:\n",
    "            pos_kmer_in_t = hit + self.k \n",
    "            if p[offset : ] == t[ pos_kmer_in_t : pos_kmer_in_t + offset ]:\n",
    "                matches.append([hit, pos_kmer_in_t + offset])\n",
    "        return matches\n"
   ]
  },
  {
   "cell_type": "code",
   "execution_count": 2,
   "metadata": {},
   "outputs": [
    {
     "name": "stdout",
     "output_type": "stream",
     "text": [
      "[['AA', 0], ['AG', 8], ['AT', 1], ['AT', 14], ['CA', 7], ['CA', 13], ['CC', 6], ['CC', 11], ['CC', 12], ['CG', 3], ['GC', 5], ['GC', 10], ['GG', 4], ['GG', 9], ['TA', 16], ['TC', 2], ['TT', 15]]\n"
     ]
    }
   ],
   "source": [
    "texto='AATCGGCCAGGCCCATTA'\n",
    "palavra = 'GGCC'\n",
    "\n",
    "#cria um indice contendo trechos (kmers) de tamanho 2 e com as respectivas posicoes\n",
    "index =  Index(texto, 2)"
   ]
  },
  {
   "cell_type": "code",
   "execution_count": 5,
   "metadata": {},
   "outputs": [
    {
     "name": "stdout",
     "output_type": "stream",
     "text": [
      "posicao: [4, 8] , trecho:  GGCC\n",
      "posicao: [9, 13] , trecho:  GGCC\n"
     ]
    }
   ],
   "source": [
    "#procura pela palavra no texto\n",
    "matches  = index.busca_palavra(texto, palavra)\n",
    "for match in matches:\n",
    "    print('posicao:', match, ', trecho: ', texto [match[0] : match[1]] )"
   ]
  },
  {
   "cell_type": "code",
   "execution_count": null,
   "metadata": {},
   "outputs": [],
   "source": []
  },
  {
   "cell_type": "code",
   "execution_count": null,
   "metadata": {},
   "outputs": [],
   "source": []
  },
  {
   "cell_type": "code",
   "execution_count": null,
   "metadata": {},
   "outputs": [],
   "source": []
  }
 ],
 "metadata": {
  "kernelspec": {
   "display_name": "Python 3",
   "language": "python",
   "name": "python3"
  },
  "language_info": {
   "codemirror_mode": {
    "name": "ipython",
    "version": 3
   },
   "file_extension": ".py",
   "mimetype": "text/x-python",
   "name": "python",
   "nbconvert_exporter": "python",
   "pygments_lexer": "ipython3",
   "version": "3.6.5"
  }
 },
 "nbformat": 4,
 "nbformat_minor": 2
}
