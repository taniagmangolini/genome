{
 "cells": [
  {
   "cell_type": "code",
   "execution_count": 1,
   "metadata": {},
   "outputs": [],
   "source": [
    "def leitura_fasta(nome_arquivo):\n",
    "    'Processamento de arquivo fasta e retorno de dicionario com as sequencias lidas'\n",
    "    \n",
    "    sequencias = {}\n",
    "    seq_id = ''\n",
    "    \n",
    "    try:\n",
    "        arquivo_fasta =  open(nome_arquivo)\n",
    "    except 'IOError':\n",
    "       print('Arquivo nao encontrado!') \n",
    "\n",
    "    for linha in arquivo_fasta:\n",
    "        if linha[0] == '>':\n",
    "            seq_id = linha.rstrip()[1:linha.find(' ')]\n",
    "            sequencias[seq_id] = ''\n",
    "        elif linha != '':\n",
    "            sequencias[seq_id] = sequencias[seq_id] + linha.rstrip()\n",
    "    print('quantidade de sequencias lidas=>', len(sequencias))\n",
    "    return sequencias"
   ]
  },
  {
   "cell_type": "code",
   "execution_count": 2,
   "metadata": {},
   "outputs": [],
   "source": [
    "def obter_tamanho_sequencias(sequencias):\n",
    "    'obtem um dicionario de sequencias e retorna o tamanho delas ordenado de forma descendente '\n",
    "    tamanhos = {}\n",
    "    for id_seq, sequencia in sequencias.items():\n",
    "        tamanhos[id_seq] = len(sequencia)\n",
    "    return  sorted(tamanhos.items(), key=lambda x: x[1], reverse=True)"
   ]
  },
  {
   "cell_type": "code",
   "execution_count": 3,
   "metadata": {},
   "outputs": [],
   "source": [
    "def obter_fita_reversa_complementar(sequencia):\n",
    "    pareamento_bases = {'A':'T', 'T':'A', 'C':'G', 'G':'C', 'N':'N'}\n",
    "    sequencia_invertida = list(sequencia[::-1]) \n",
    "    complemento = [pareamento_bases[base] for base in sequencia_invertida]\n",
    "    return ''.join(complemento)"
   ]
  },
  {
   "cell_type": "code",
   "execution_count": 4,
   "metadata": {},
   "outputs": [],
   "source": [
    "def obter_orfs(sequencia, frame=1, reverso_complementar = False):\n",
    "    'obtem as ORFs de uma sequencia em determinado frame (1,2 ou 3). O frame default é 1'\n",
    "    start_codon  = 'ATG'\n",
    "    stop_codons  = ['TAA', 'TAG', 'TGA']\n",
    "    tamanho_codon= 3\n",
    "    sequencia_frame = sequencia[frame-1:]\n",
    "    \n",
    "    if reverso_complementar:\n",
    "        sequencia_frame =  obter_fita_reversa_complementar(sequencia_frame)\n",
    "            \n",
    "    orfs = []\n",
    "    orf = ['' , '', '']\n",
    "    \n",
    "    for i in range (0, len(sequencia_frame)-tamanho_codon + 1, tamanho_codon):\n",
    "        if sequencia_frame[i:i+3] == start_codon and orf[0] == '' :\n",
    "            orf[0] = i + frame #pos start\n",
    "        \n",
    "        if sequencia_frame[i:i+3] in stop_codons and orf[0] != '':\n",
    "            orf[1] = i + frame #pos stop\n",
    "            orf[2] = (orf[1] + tamanho_codon) - orf[0] #tamanho \n",
    "            orfs.append(orf)\n",
    "            orf = ['' , '', '']\n",
    "            \n",
    "    return orfs"
   ]
  },
  {
   "cell_type": "code",
   "execution_count": 5,
   "metadata": {},
   "outputs": [],
   "source": [
    "'obter as orfs de cada sequencia ordenadas de forma descendente'\n",
    "def obter_orfs_sequencias (sequencias, frame):\n",
    "    seq_forward_orfs = {}\n",
    "    for seq_id, sequencia in sequencias.items():\n",
    "        orfs = obter_orfs(sequencia, frame )\n",
    "        seq_forward_orfs[seq_id]=orfs\n",
    "    return seq_forward_orfs"
   ]
  },
  {
   "cell_type": "code",
   "execution_count": 6,
   "metadata": {},
   "outputs": [],
   "source": [
    "def encontrar_repeticoes_palavra(sequencia, palavra):\n",
    "    'encontrar repetições da palavra'\n",
    "    repeticoes_palavra = []\n",
    "    for i in range (len(sequencia) - len(palavra) + 1):\n",
    "        encontrou = True\n",
    "        for j in range(len(palavra)):\n",
    "            if sequencia[i+j] != palavra[j]:\n",
    "                encontrou = False\n",
    "                break\n",
    "        if encontrou: \n",
    "            repeticoes_palavra.append(i)\n",
    "        \n",
    "    return repeticoes_palavra"
   ]
  },
  {
   "cell_type": "code",
   "execution_count": 7,
   "metadata": {},
   "outputs": [],
   "source": [
    "def encontrar_palavras_sequencia(sequencia, tamanho):\n",
    "    palavras = []\n",
    "    for i in range(len(sequencia) - tamanho + 1):\n",
    "        palavra = sequencia[i:i+tamanho]\n",
    "        palavras.append(palavra)\n",
    "    return palavras"
   ]
  },
  {
   "cell_type": "code",
   "execution_count": 8,
   "metadata": {},
   "outputs": [],
   "source": [
    "'buscar palavras repetidas nas sequencias'\n",
    "def encontrar_repeticoes_sequencia(sequencia, tamanho):\n",
    "    palavra_repeticoes = {}\n",
    "    palavras = encontrar_palavras_sequencia(sequencia, tamanho)\n",
    "    if len(palavras) != 0:\n",
    "        for palavra in palavras: \n",
    "            repeticoes = encontrar_repeticoes_palavra(sequencia, palavra) \n",
    "            palavra_repeticoes[palavra] = repeticoes\n",
    "    return palavra_repeticoes  "
   ]
  },
  {
   "cell_type": "code",
   "execution_count": 9,
   "metadata": {},
   "outputs": [],
   "source": [
    "def obter_rank_repeticoes(repeticoes_sequencias, min_ocorrencias):\n",
    "    'obter palavras repetidas em comum nas sequencias'\n",
    "    todas_palavras = []\n",
    "    contagem_palavras = {}\n",
    "    contagem_palavras_filtered = {}\n",
    "    \n",
    "    for seq_id, palavras in repeticoes_sequencias.items():\n",
    "        for palavra, repeat in palavras.items():\n",
    "            todas_palavras.append(palavra)\n",
    "    todas_palavras = set(todas_palavras)\n",
    "    \n",
    "    'obter rank das palavras mais frequentes'\n",
    "    for palavra in todas_palavras:\n",
    "        contador = 0\n",
    "        for seq_id, palavras in repeticoes_sequencias.items():     \n",
    "            if palavra  in palavras:\n",
    "                contador = contador + len(palavras[palavra])\n",
    "                contagem_palavras[palavra] = contador\n",
    "            \n",
    "    'extrair apenas as repeticoes com um numero minimo de ocorrencias'\n",
    "    for palavra, contagem in contagem_palavras.items():\n",
    "        if contagem >= min_ocorrencias:\n",
    "            contagem_palavras_filtered[palavra] = contagem\n",
    "        \n",
    "    return sorted(contagem_palavras_filtered.items(), key=lambda x: x[1], reverse=True)"
   ]
  },
  {
   "cell_type": "code",
   "execution_count": 10,
   "metadata": {},
   "outputs": [
    {
     "name": "stdout",
     "output_type": "stream",
     "text": [
      "quantidade de sequencias lidas=> 18\n"
     ]
    }
   ],
   "source": [
    "'ler arquivo fasta'\n",
    "arquivo = 'dna2.fasta'\n",
    "sequencias = leitura_fasta(arquivo)"
   ]
  },
  {
   "cell_type": "code",
   "execution_count": 11,
   "metadata": {},
   "outputs": [
    {
     "data": {
      "text/plain": [
       "[('gi|142022655|gb|EQ086233.1|255', 4894),\n",
       " ('gi|142022655|gb|EQ086233.1|16', 4804),\n",
       " ('gi|142022655|gb|EQ086233.1|91', 4635),\n",
       " ('gi|142022655|gb|EQ086233.1|454', 4564),\n",
       " ('gi|142022655|gb|EQ086233.1|293', 4338),\n",
       " ('gi|142022655|gb|EQ086233.1|396', 4076),\n",
       " ('gi|142022655|gb|EQ086233.1|45', 3511),\n",
       " ('gi|142022655|gb|EQ086233.1|250', 2867),\n",
       " ('gi|142022655|gb|EQ086233.1|527', 2646),\n",
       " ('gi|142022655|gb|EQ086233.1|4', 2095),\n",
       " ('gi|142022655|gb|EQ086233.1|277', 1432),\n",
       " ('gi|142022655|gb|EQ086233.1|75', 1352),\n",
       " ('gi|142022655|gb|EQ086233.1|304', 1151),\n",
       " ('gi|142022655|gb|EQ086233.1|594', 967),\n",
       " ('gi|142022655|gb|EQ086233.1|584', 964),\n",
       " ('gi|142022655|gb|EQ086233.1|88', 890),\n",
       " ('gi|142022655|gb|EQ086233.1|322', 442),\n",
       " ('gi|142022655|gb|EQ086233.1|346', 115)]"
      ]
     },
     "execution_count": 11,
     "metadata": {},
     "output_type": "execute_result"
    }
   ],
   "source": [
    "'obter o tamanho das sequencias'\n",
    "tamanhos = obter_tamanho_sequencias(sequencias)\n",
    "tamanhos"
   ]
  },
  {
   "cell_type": "code",
   "execution_count": 12,
   "metadata": {},
   "outputs": [],
   "source": [
    "'obtem as palavras do tamanho informado nas sequencias'\n",
    "repeticoes_sequencias = {}\n",
    "for seq_id, sequencia in sequencias.items():\n",
    "    repeticoes = encontrar_repeticoes_sequencia(sequencia, 6)\n",
    "    repeticoes_sequencias[seq_id] = repeticoes"
   ]
  },
  {
   "cell_type": "code",
   "execution_count": 13,
   "metadata": {},
   "outputs": [
    {
     "data": {
      "text/plain": [
       "[('GCGCGC', 153),\n",
       " ('CGCGCG', 151),\n",
       " ('GCCGCG', 147),\n",
       " ('GCGCCG', 135),\n",
       " ('CGCGGC', 131),\n",
       " ('CGGCCG', 125),\n",
       " ('CGCCGC', 121),\n",
       " ('GCCGGC', 119),\n",
       " ('GCGCGG', 115),\n",
       " ('CGGCGC', 109),\n",
       " ('GCGGCG', 106),\n",
       " ('CGCCGA', 105),\n",
       " ('CCGCGC', 105),\n",
       " ('GCGACG', 104),\n",
       " ('CGCGCC', 103),\n",
       " ('GCGCGA', 102),\n",
       " ('CGCGAC', 100)]"
      ]
     },
     "execution_count": 13,
     "metadata": {},
     "output_type": "execute_result"
    }
   ],
   "source": [
    "'''obtem as palavras em comum mais frequentes (de acordo com o numero minimo de repeticoes informado)\n",
    "e ordenadas de forma descendente '''\n",
    "rank_palavras_6 = obter_rank_repeticoes(repeticoes_sequencias, 100)\n",
    "rank_palavras_6"
   ]
  },
  {
   "cell_type": "code",
   "execution_count": 14,
   "metadata": {},
   "outputs": [
    {
     "data": {
      "text/plain": [
       "{'gi|142022655|gb|EQ086233.1|91': [[229, 904, 678],\n",
       "  [979, 2272, 1296],\n",
       "  [2386, 3091, 708],\n",
       "  [3745, 4030, 288]],\n",
       " 'gi|142022655|gb|EQ086233.1|304': [[520, 586, 69], [859, 961, 105]],\n",
       " 'gi|142022655|gb|EQ086233.1|255': [[292, 1732, 1443],\n",
       "  [1864, 2491, 630],\n",
       "  [2503, 2566, 66],\n",
       "  [2581, 2611, 33]],\n",
       " 'gi|142022655|gb|EQ086233.1|45': [[385, 2776, 2394]],\n",
       " 'gi|142022655|gb|EQ086233.1|396': [[145, 406, 264],\n",
       "  [529, 1585, 1059],\n",
       "  [2374, 3184, 813],\n",
       "  [3649, 3745, 99]],\n",
       " 'gi|142022655|gb|EQ086233.1|250': [[562, 2119, 1560], [2404, 2599, 198]],\n",
       " 'gi|142022655|gb|EQ086233.1|322': [],\n",
       " 'gi|142022655|gb|EQ086233.1|88': [[82, 199, 120],\n",
       "  [316, 361, 48],\n",
       "  [520, 571, 54],\n",
       "  [733, 745, 15]],\n",
       " 'gi|142022655|gb|EQ086233.1|594': [[28, 67, 42]],\n",
       " 'gi|142022655|gb|EQ086233.1|293': [[22, 199, 180],\n",
       "  [226, 340, 117],\n",
       "  [355, 622, 270],\n",
       "  [682, 712, 33],\n",
       "  [763, 907, 147],\n",
       "  [973, 1012, 42],\n",
       "  [1021, 1039, 21],\n",
       "  [1090, 1219, 132],\n",
       "  [1390, 1699, 312],\n",
       "  [1990, 2239, 252],\n",
       "  [2965, 3061, 99],\n",
       "  [3136, 3160, 27],\n",
       "  [3241, 3265, 27],\n",
       "  [3424, 3517, 96],\n",
       "  [3553, 3619, 69],\n",
       "  [3682, 3793, 114],\n",
       "  [3871, 4120, 252],\n",
       "  [4168, 4228, 63]],\n",
       " 'gi|142022655|gb|EQ086233.1|75': [[730, 766, 39],\n",
       "  [820, 997, 180],\n",
       "  [1075, 1168, 96]],\n",
       " 'gi|142022655|gb|EQ086233.1|454': [[145, 229, 87],\n",
       "  [1645, 1744, 102],\n",
       "  [2104, 2149, 48],\n",
       "  [2338, 3379, 1044],\n",
       "  [3709, 3820, 114],\n",
       "  [4135, 4258, 126],\n",
       "  [4270, 4306, 39],\n",
       "  [4315, 4465, 153]],\n",
       " 'gi|142022655|gb|EQ086233.1|16': [[265, 328, 66],\n",
       "  [577, 601, 27],\n",
       "  [1273, 1492, 222],\n",
       "  [1528, 3034, 1509],\n",
       "  [4720, 4786, 69]],\n",
       " 'gi|142022655|gb|EQ086233.1|584': [[160, 247, 90],\n",
       "  [370, 394, 27],\n",
       "  [886, 898, 15],\n",
       "  [931, 940, 12]],\n",
       " 'gi|142022655|gb|EQ086233.1|4': [[1, 208, 210], [445, 691, 249]],\n",
       " 'gi|142022655|gb|EQ086233.1|277': [[187, 283, 99],\n",
       "  [598, 799, 204],\n",
       "  [838, 937, 102]],\n",
       " 'gi|142022655|gb|EQ086233.1|346': [],\n",
       " 'gi|142022655|gb|EQ086233.1|527': [[82, 253, 174],\n",
       "  [382, 475, 96],\n",
       "  [592, 637, 48],\n",
       "  [901, 913, 15],\n",
       "  [943, 1027, 87],\n",
       "  [1225, 1417, 195],\n",
       "  [1537, 1651, 117],\n",
       "  [2197, 2233, 39],\n",
       "  [2335, 2407, 75]]}"
      ]
     },
     "execution_count": 14,
     "metadata": {},
     "output_type": "execute_result"
    }
   ],
   "source": [
    "'obter orfs do frame 1 forward de cada sequencia'\n",
    "seq_forward_orfs_frame_1 = obter_orfs_sequencias(sequencias, 1)\n",
    "seq_forward_orfs_frame_1"
   ]
  },
  {
   "cell_type": "code",
   "execution_count": 15,
   "metadata": {},
   "outputs": [
    {
     "data": {
      "text/plain": [
       "{'gi|142022655|gb|EQ086233.1|91': [[77, 125, 51],\n",
       "  [293, 341, 51],\n",
       "  [347, 353, 9],\n",
       "  [512, 515, 6],\n",
       "  [641, 653, 15],\n",
       "  [659, 746, 90],\n",
       "  [818, 1052, 237],\n",
       "  [1103, 1133, 33],\n",
       "  [1415, 1553, 141],\n",
       "  [1658, 1664, 9],\n",
       "  [1748, 1817, 72],\n",
       "  [2078, 2213, 138],\n",
       "  [2396, 2414, 21],\n",
       "  [2558, 2582, 27],\n",
       "  [2861, 2879, 21]],\n",
       " 'gi|142022655|gb|EQ086233.1|304': [],\n",
       " 'gi|142022655|gb|EQ086233.1|255': [[71, 155, 87],\n",
       "  [206, 254, 51],\n",
       "  [287, 293, 9],\n",
       "  [431, 1613, 1185],\n",
       "  [1856, 1865, 12],\n",
       "  [2033, 2207, 177],\n",
       "  [2378, 2510, 135],\n",
       "  [2528, 3551, 1026],\n",
       "  [3758, 4193, 438],\n",
       "  [4217, 4496, 282]],\n",
       " 'gi|142022655|gb|EQ086233.1|45': [[158, 683, 528],\n",
       "  [1136, 1529, 396],\n",
       "  [1613, 2048, 438],\n",
       "  [2129, 2237, 111],\n",
       "  [2426, 2522, 99],\n",
       "  [2660, 2771, 114],\n",
       "  [2834, 3251, 420],\n",
       "  [3272, 3488, 219]],\n",
       " 'gi|142022655|gb|EQ086233.1|396': [[185, 356, 174],\n",
       "  [368, 530, 165],\n",
       "  [734, 1280, 549],\n",
       "  [1517, 2795, 1281],\n",
       "  [2801, 3650, 852]],\n",
       " 'gi|142022655|gb|EQ086233.1|250': [[104, 137, 36],\n",
       "  [164, 713, 552],\n",
       "  [869, 890, 24],\n",
       "  [1097, 1196, 102],\n",
       "  [1304, 1397, 96],\n",
       "  [1787, 1856, 72],\n",
       "  [1898, 2141, 246],\n",
       "  [2477, 2669, 195]],\n",
       " 'gi|142022655|gb|EQ086233.1|322': [[275, 428, 156]],\n",
       " 'gi|142022655|gb|EQ086233.1|88': [[182, 317, 138]],\n",
       " 'gi|142022655|gb|EQ086233.1|594': [[695, 725, 33]],\n",
       " 'gi|142022655|gb|EQ086233.1|293': [[1109, 1199, 93],\n",
       "  [1574, 1991, 420],\n",
       "  [2111, 2174, 66],\n",
       "  [2375, 2720, 348],\n",
       "  [2975, 2981, 9],\n",
       "  [2996, 3137, 144],\n",
       "  [3167, 3191, 27],\n",
       "  [3386, 3422, 39],\n",
       "  [3629, 3683, 57]],\n",
       " 'gi|142022655|gb|EQ086233.1|75': [[257, 758, 504], [905, 1079, 177]],\n",
       " 'gi|142022655|gb|EQ086233.1|454': [[758, 1577, 822],\n",
       "  [1799, 2339, 543],\n",
       "  [2438, 2441, 6],\n",
       "  [2732, 2933, 204],\n",
       "  [3248, 3296, 51]],\n",
       " 'gi|142022655|gb|EQ086233.1|16': [[461, 854, 396],\n",
       "  [905, 1520, 618],\n",
       "  [1796, 1952, 159],\n",
       "  [1979, 2123, 147],\n",
       "  [3071, 4526, 1458]],\n",
       " 'gi|142022655|gb|EQ086233.1|584': [[167, 182, 18], [203, 227, 27]],\n",
       " 'gi|142022655|gb|EQ086233.1|4': [[62, 185, 126]],\n",
       " 'gi|142022655|gb|EQ086233.1|277': [[680, 956, 279], [1085, 1130, 48]],\n",
       " 'gi|142022655|gb|EQ086233.1|346': [],\n",
       " 'gi|142022655|gb|EQ086233.1|527': [[506, 944, 441],\n",
       "  [959, 1067, 111],\n",
       "  [1541, 2108, 570],\n",
       "  [2468, 2492, 27]]}"
      ]
     },
     "execution_count": 15,
     "metadata": {},
     "output_type": "execute_result"
    }
   ],
   "source": [
    "'obter orfs do frame 2 forward de cada sequencia. Para cada orf são exibidas as posicoes de start, stop e o tamanho'\n",
    "seq_forward_orfs_frame_2 = obter_orfs_sequencias(sequencias, 2)\n",
    "seq_forward_orfs_frame_2"
   ]
  },
  {
   "cell_type": "code",
   "execution_count": 16,
   "metadata": {},
   "outputs": [
    {
     "data": {
      "text/plain": [
       "{'gi|142022655|gb|EQ086233.1|91': [[909, 1260, 354],\n",
       "  [1401, 1437, 39],\n",
       "  [2271, 2397, 129],\n",
       "  [2856, 3441, 588],\n",
       "  [3450, 3531, 84],\n",
       "  [3543, 3690, 150],\n",
       "  [3753, 3849, 99],\n",
       "  [3942, 3954, 15],\n",
       "  [4083, 4128, 48],\n",
       "  [4263, 4290, 30],\n",
       "  [4311, 4374, 66],\n",
       "  [4392, 4470, 81]],\n",
       " 'gi|142022655|gb|EQ086233.1|304': [[621, 765, 147],\n",
       "  [909, 1026, 120],\n",
       "  [1098, 1137, 42]],\n",
       " 'gi|142022655|gb|EQ086233.1|255': [[777, 945, 171],\n",
       "  [1179, 1185, 9],\n",
       "  [1641, 1923, 285],\n",
       "  [2022, 2031, 12],\n",
       "  [2610, 2673, 66],\n",
       "  [3705, 3903, 201],\n",
       "  [4026, 4215, 192]],\n",
       " 'gi|142022655|gb|EQ086233.1|45': [[216, 471, 258],\n",
       "  [525, 555, 33],\n",
       "  [699, 1020, 324],\n",
       "  [2628, 2709, 84]],\n",
       " 'gi|142022655|gb|EQ086233.1|396': [[429, 651, 225],\n",
       "  [1941, 1968, 30],\n",
       "  [1992, 2037, 48],\n",
       "  [2391, 2472, 84],\n",
       "  [2697, 2790, 96],\n",
       "  [3120, 3180, 63],\n",
       "  [3204, 3381, 180],\n",
       "  [3399, 3411, 15],\n",
       "  [3420, 3489, 72],\n",
       "  [3495, 3540, 48],\n",
       "  [3873, 4041, 171]],\n",
       " 'gi|142022655|gb|EQ086233.1|250': [[246, 342, 99], [1374, 1620, 249]],\n",
       " 'gi|142022655|gb|EQ086233.1|322': [[90, 276, 189], [312, 351, 42]],\n",
       " 'gi|142022655|gb|EQ086233.1|88': [],\n",
       " 'gi|142022655|gb|EQ086233.1|594': [[66, 276, 213]],\n",
       " 'gi|142022655|gb|EQ086233.1|293': [[1017, 1266, 252],\n",
       "  [1356, 1362, 9],\n",
       "  [1395, 1554, 162],\n",
       "  [1698, 2112, 417],\n",
       "  [2334, 3042, 711],\n",
       "  [3060, 3186, 129]],\n",
       " 'gi|142022655|gb|EQ086233.1|75': [[57, 258, 204],\n",
       "  [291, 321, 33],\n",
       "  [345, 378, 36],\n",
       "  [402, 582, 183],\n",
       "  [597, 645, 51]],\n",
       " 'gi|142022655|gb|EQ086233.1|454': [[222, 759, 540],\n",
       "  [1272, 1392, 123],\n",
       "  [2058, 2121, 66],\n",
       "  [2169, 2298, 132],\n",
       "  [2316, 2406, 93],\n",
       "  [3096, 4494, 1401]],\n",
       " 'gi|142022655|gb|EQ086233.1|16': [[111, 1425, 1317],\n",
       "  [1440, 3081, 1644],\n",
       "  [3105, 3234, 132],\n",
       "  [3402, 3459, 60],\n",
       "  [3630, 3687, 60],\n",
       "  [3798, 3888, 93],\n",
       "  [4149, 4299, 153],\n",
       "  [4578, 4665, 90]],\n",
       " 'gi|142022655|gb|EQ086233.1|584': [[348, 477, 132]],\n",
       " 'gi|142022655|gb|EQ086233.1|4': [[693, 753, 63],\n",
       "  [1203, 1227, 27],\n",
       "  [1278, 1494, 219],\n",
       "  [1962, 2085, 126]],\n",
       " 'gi|142022655|gb|EQ086233.1|277': [[759, 927, 171],\n",
       "  [966, 1032, 69],\n",
       "  [1137, 1194, 60],\n",
       "  [1197, 1221, 27],\n",
       "  [1359, 1383, 27]],\n",
       " 'gi|142022655|gb|EQ086233.1|346': [],\n",
       " 'gi|142022655|gb|EQ086233.1|527': [[21, 51, 33],\n",
       "  [177, 531, 357],\n",
       "  [636, 2454, 1821]]}"
      ]
     },
     "execution_count": 16,
     "metadata": {},
     "output_type": "execute_result"
    }
   ],
   "source": [
    "'obter orfs do frame 3 forward de cada sequencia'\n",
    "seq_forward_orfs_frame_3 = obter_orfs_sequencias(sequencias, 3)\n",
    "seq_forward_orfs_frame_3"
   ]
  },
  {
   "cell_type": "code",
   "execution_count": null,
   "metadata": {},
   "outputs": [],
   "source": []
  },
  {
   "cell_type": "code",
   "execution_count": null,
   "metadata": {},
   "outputs": [],
   "source": []
  },
  {
   "cell_type": "code",
   "execution_count": null,
   "metadata": {},
   "outputs": [],
   "source": []
  }
 ],
 "metadata": {
  "kernelspec": {
   "display_name": "Python 3",
   "language": "python",
   "name": "python3"
  },
  "language_info": {
   "codemirror_mode": {
    "name": "ipython",
    "version": 3
   },
   "file_extension": ".py",
   "mimetype": "text/x-python",
   "name": "python",
   "nbconvert_exporter": "python",
   "pygments_lexer": "ipython3",
   "version": "3.6.5"
  }
 },
 "nbformat": 4,
 "nbformat_minor": 2
}
