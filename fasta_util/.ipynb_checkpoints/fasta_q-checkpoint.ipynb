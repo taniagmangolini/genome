{
 "cells": [
  {
   "cell_type": "code",
   "execution_count": 10,
   "metadata": {},
   "outputs": [],
   "source": [
    "import matplotlib.pyplot as plt"
   ]
  },
  {
   "cell_type": "code",
   "execution_count": 20,
   "metadata": {},
   "outputs": [],
   "source": [
    "def leitura_fasta_q(fasta_q):\n",
    "    'Processamento de arquivo fastaq e retorno de dicionario com as sequencias lidas'\n",
    "    seq_qual = {}\n",
    "    posicao = 0\n",
    "    qualidades = []\n",
    "    reads = []\n",
    "    \n",
    "    #processa arquivo\n",
    "    with open (fasta_q) as fq:\n",
    "        \n",
    "        while True:\n",
    "            fq.readline() #skip line\n",
    "            sequencia =  fq.readline().rstrip()\n",
    "            fq.readline() #skip\n",
    "            qualidade= fq.readline().rstrip()\n",
    "            \n",
    "            if len(sequencia) == 0 or len(qualidade) == 0:\n",
    "                break\n",
    "                \n",
    "            reads.append(sequencia)\n",
    "            qualidades.append(qualidade)\n",
    "            seq_qual[posicao] = [sequencia, qualidade]\n",
    "            posicao += 1\n",
    "            \n",
    "    #converte qualidade para phred33\n",
    "    converter_qualidade_asc_phred33(seq_qual) \n",
    "    \n",
    "    return seq_qual, qualidades, reads"
   ]
  },
  {
   "cell_type": "code",
   "execution_count": 21,
   "metadata": {},
   "outputs": [],
   "source": [
    "def ascii_to_phred33(asc_ii):\n",
    "    'Converte Phred33 para AscII'\n",
    "    return ord(asc_ii)-33"
   ]
  },
  {
   "cell_type": "code",
   "execution_count": 22,
   "metadata": {},
   "outputs": [],
   "source": [
    "def phred33_to_ascii(phred33):\n",
    "    'Converte AscII para o formato Phred'\n",
    "    return chr(phred33+33)"
   ]
  },
  {
   "cell_type": "code",
   "execution_count": 23,
   "metadata": {},
   "outputs": [],
   "source": [
    "def converter_qualidade_asc_phred33(seq_qual):\n",
    "    for posicao, dados in seq_qual.items():\n",
    "        qualidade_ascii = dados[1]\n",
    "        qualidade_phred = []\n",
    "        bad_qual_10 = '' \n",
    "        \n",
    "        for asc_ii in qualidade_ascii:\n",
    "            phred33 = ascii_to_phred33(asc_ii)\n",
    "            qualidade_phred.append(phred33)\n",
    "        \n",
    "        #obtem a primeira sequencia de 3 qualidade_phred com qualidade <=10\n",
    "        for pos in range(len(qualidade_phred)-2):\n",
    "            if qualidade_phred[pos] <=10 and qualidade_phred[pos+1] <=10 and qualidade_phred[pos+2]:\n",
    "                bad_qual_10 = pos\n",
    "                break\n",
    "            \n",
    "        \n",
    "        seq_qual[posicao] = [dados[0], dados[1], qualidade_phred, bad_qual_10]  \n",
    "    return seq_qual"
   ]
  },
  {
   "cell_type": "code",
   "execution_count": 24,
   "metadata": {},
   "outputs": [],
   "source": [
    "def ordenar_sequencias_por_bad_qual_10(seq_qual):\n",
    "    'retorna as sequencias que apresentam determinado phred'\n",
    "    resultado = {}\n",
    "    for posicao, dados in seq_qual.items():\n",
    "        if  dados[3] != '' :\n",
    "            resultado[posicao] = dados[3]\n",
    "    resultado_sorted = sorted(resultado.items(), key=lambda x: x[1])\n",
    "    return resultado_sorted"
   ]
  },
  {
   "cell_type": "code",
   "execution_count": 42,
   "metadata": {},
   "outputs": [],
   "source": [
    "def criar_histograma_qualidade(qualities):\n",
    "    'histograma do score de qualidade'\n",
    "    hist = [0]*50\n",
    "    scores = {}\n",
    "    for qual in qualities:\n",
    "        for phred in qual:\n",
    "            q = ascii_to_phred33(phred)\n",
    "            hist[q] += 1\n",
    "            scores[q] = hist[q]\n",
    "    print(sorted(scores.items(), key=lambda x: x[1]))\n",
    "    plt.plot(range(len(hist)), hist)\n",
    "    plt.show()"
   ]
  },
  {
   "cell_type": "code",
   "execution_count": 43,
   "metadata": {},
   "outputs": [],
   "source": [
    "def plot_gc_by_pos(reads):\n",
    "    ' GC ratio em cada posicao do read '\n",
    "    # Keep track of the number of G/C bases and the total number of bases at each position\n",
    "    gc = [0] * 100\n",
    "    totals = [0] * 100\n",
    "    for read in reads:\n",
    "        for i in range(len(read)):\n",
    "            if read[i] == 'C' or read[i] == 'G':\n",
    "                gc[i] += 1\n",
    "            totals[i] += 1\n",
    "    # Divide G/C counts by total counts to get the average at each position\n",
    "    for i in range(len(gc)):\n",
    "        if totals[i] > 0:\n",
    "            gc[i] /= float(totals[i])\n",
    "    plt.plot(range(len(gc)), gc)\n",
    "    plt.show()"
   ]
  },
  {
   "cell_type": "code",
   "execution_count": 63,
   "metadata": {},
   "outputs": [],
   "source": [
    "'ler arquivo fasta para procurar read com problema qualidade'\n",
    "arquivo = 'ERR037900_1.first1000.fastq'\n",
    "seq_qual, qualidades, reads = leitura_fasta_q(arquivo)"
   ]
  },
  {
   "cell_type": "code",
   "execution_count": 64,
   "metadata": {},
   "outputs": [
    {
     "name": "stdout",
     "output_type": "stream",
     "text": [
      "primeira read que tem 3 leituras seguidas de baixa qualidade: (478, 33)\n",
      "['CAACCCTAACCCTAACCCTAACCCTAACCCTAACCCTAACCCTAACCCTAACCCTAACCCTAACCCNAACCCTAACCCTAACCCTAACCCTAACCCACCC', 'HHHHHHHHHHHHHHHHHHHHHHHHHHHHHHHHHHHHHHHHHHHHHHHHGFHHGHGHDGHEE=?EE###################################', [39, 39, 39, 39, 39, 39, 39, 39, 39, 39, 39, 39, 39, 39, 39, 39, 39, 39, 39, 39, 39, 39, 39, 39, 39, 39, 39, 39, 39, 39, 39, 39, 39, 39, 39, 39, 39, 39, 39, 39, 39, 39, 39, 39, 39, 39, 39, 39, 38, 37, 39, 39, 38, 39, 38, 39, 35, 38, 39, 36, 36, 28, 30, 36, 36, 2, 2, 2, 2, 2, 2, 2, 2, 2, 2, 2, 2, 2, 2, 2, 2, 2, 2, 2, 2, 2, 2, 2, 2, 2, 2, 2, 2, 2, 2, 2, 2, 2, 2, 2], 65]\n"
     ]
    }
   ],
   "source": [
    "bad_qual = ordenar_sequencias_por_bad_qual_10(seq_qual)\n",
    "print('primeira read que tem 3 leituras seguidas de baixa qualidade:', bad_qual[0])\n",
    "print(''.join(str(seq_qual[bad_qual[0][1]])))"
   ]
  },
  {
   "cell_type": "code",
   "execution_count": 49,
   "metadata": {},
   "outputs": [
    {
     "name": "stdout",
     "output_type": "stream",
     "text": [
      "[(4, 2), (6, 11), (5, 11), (8, 23), (7, 28), (9, 55), (12, 86), (10, 100), (11, 111), (13, 174), (14, 185), (17, 259), (15, 272), (22, 286), (16, 317), (26, 351), (18, 390), (24, 403), (23, 413), (25, 538), (27, 694), (21, 762), (29, 777), (28, 971), (30, 1024), (33, 1312), (32, 1341), (31, 1449), (19, 1523), (34, 1916), (40, 2074), (35, 2233), (20, 2782), (36, 3025), (37, 4043), (38, 6640), (2, 17723), (39, 45696)]\n"
     ]
    },
    {
     "data": {
      "image/png": "[encoded data removed]",
      "text/plain": [
       "<Figure size 432x288 with 1 Axes>"
      ]
     },
     "metadata": {},
     "output_type": "display_data"
    }
   ],
   "source": [
    "#histograma de qualidade dos scores\n",
    "criar_histograma_qualidade(qualidades)"
   ]
  },
  {
   "cell_type": "code",
   "execution_count": 50,
   "metadata": {},
   "outputs": [
    {
     "data": {
      "image/png": "[encoded data removed]",
      "text/plain": [
       "<Figure size 432x288 with 1 Axes>"
      ]
     },
     "metadata": {},
     "output_type": "display_data"
    }
   ],
   "source": [
    "#conteudo gc\n",
    "plot_gc_by_pos(reads)"
   ]
  },
  {
   "cell_type": "code",
   "execution_count": null,
   "metadata": {},
   "outputs": [],
   "source": []
  },
  {
   "cell_type": "code",
   "execution_count": null,
   "metadata": {},
   "outputs": [],
   "source": []
  }
 ],
 "metadata": {
  "kernelspec": {
   "display_name": "Python 3",
   "language": "python",
   "name": "python3"
  },
  "language_info": {
   "codemirror_mode": {
    "name": "ipython",
    "version": 3
   },
   "file_extension": ".py",
   "mimetype": "text/x-python",
   "name": "python",
   "nbconvert_exporter": "python",
   "pygments_lexer": "ipython3",
   "version": "3.6.5"
  }
 },
 "nbformat": 4,
 "nbformat_minor": 2
}
