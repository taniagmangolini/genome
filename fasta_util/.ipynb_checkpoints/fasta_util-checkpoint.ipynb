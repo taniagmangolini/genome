{
 "cells": [
  {
   "cell_type": "code",
   "execution_count": 1,
   "metadata": {},
   "outputs": [],
   "source": [
    "def leitura_fasta(nome_arquivo):\n",
    "    'Processamento de arquivo fasta e retorno de dicionario com as sequencias lidas'\n",
    "    \n",
    "    sequencias = {}\n",
    "    seq_id = ''\n",
    "    \n",
    "    try:\n",
    "        arquivo_fasta =  open(nome_arquivo)\n",
    "    except 'IOError':\n",
    "       print('Arquivo nao encontrado!') \n",
    "\n",
    "    for linha in arquivo_fasta:\n",
    "        if linha[0] == '>':\n",
    "            seq_id = linha.rstrip()[1:linha.find(' ')]\n",
    "            sequencias[seq_id] = ''\n",
    "        elif linha != '':\n",
    "            sequencias[seq_id] = sequencias[seq_id] + linha.rstrip()\n",
    "    print('quantidade de sequencias lidas=>', len(sequencias))\n",
    "    return sequencias"
   ]
  },
  {
   "cell_type": "code",
   "execution_count": 2,
   "metadata": {},
   "outputs": [],
   "source": [
    "def obter_tamanho_sequencias(sequencias):\n",
    "    'obtem um dicionario de sequencias e retorna o tamanho delas ordenado de forma descendente '\n",
    "    tamanhos = {}\n",
    "    for id_seq, sequencia in sequencias.items():\n",
    "        tamanhos[id_seq] = len(sequencia)\n",
    "    return  sorted(tamanhos.items(), key=lambda x: x[1], reverse=True)"
   ]
  },
  {
   "cell_type": "code",
   "execution_count": 3,
   "metadata": {},
   "outputs": [],
   "source": [
    "def obter_fita_reversa_complementar(sequencia):\n",
    "    pareamento_bases = {'A':'T', 'T':'A', 'C':'G', 'G':'C', 'N':'N'}\n",
    "    sequencia_invertida = list(sequencia[::-1]) \n",
    "    complemento = [pareamento_bases[base] for base in sequencia_invertida]\n",
    "    return ''.join(complemento)"
   ]
  },
  {
   "cell_type": "code",
   "execution_count": 4,
   "metadata": {},
   "outputs": [],
   "source": [
    "def obter_orfs(sequencia, frame=1, reverso_complementar = False):\n",
    "    'obtem as ORFs de uma sequencia em determinado frame (1,2 ou 3). O frame default é 1'\n",
    "    start_codon  = 'ATG'\n",
    "    stop_codons  = ['TAA', 'TAG', 'TGA']\n",
    "    tamanho_codon= 3\n",
    "    sequencia_frame = sequencia[frame-1:]\n",
    "    \n",
    "    if reverso_complementar:\n",
    "        sequencia_frame =  obter_fita_reversa_complementar(sequencia_frame)\n",
    "            \n",
    "    orfs = []\n",
    "    orf = ['' , '', '']\n",
    "    \n",
    "    for i in range (0, len(sequencia_frame)-tamanho_codon + 1, tamanho_codon):\n",
    "        if sequencia_frame[i:i+3] == start_codon and orf[0] == '' :\n",
    "            orf[0] = i + frame #pos start\n",
    "        \n",
    "        if sequencia_frame[i:i+3] in stop_codons and orf[0] != '':\n",
    "            orf[1] = i + frame #pos stop\n",
    "            orf[2] = (orf[1] + tamanho_codon) - orf[0] #tamanho \n",
    "            orfs.append(orf)\n",
    "            orf = ['' , '', '']\n",
    "            \n",
    "    return orfs"
   ]
  },
  {
   "cell_type": "code",
   "execution_count": 5,
   "metadata": {},
   "outputs": [],
   "source": [
    "'obter as orfs de cada sequencia ordenadas de forma descendente'\n",
    "def obter_orfs_sequencias (sequencias, frame):\n",
    "    seq_forward_orfs = {}\n",
    "    for seq_id, sequencia in sequencias.items():\n",
    "        orfs = obter_orfs(sequencia, frame )\n",
    "        seq_forward_orfs[seq_id]=orfs\n",
    "    return seq_forward_orfs"
   ]
  },
  {
   "cell_type": "code",
   "execution_count": 6,
   "metadata": {},
   "outputs": [],
   "source": [
    "def encontrar_repeticoes_palavra(sequencia, palavra):\n",
    "    'encontrar repetições da palavra'\n",
    "    repeticoes_palavra = []\n",
    "    for i in range (len(sequencia) - len(palavra) + 1):\n",
    "        encontrou = True\n",
    "        for j in range(len(palavra)):\n",
    "            if sequencia[i+j] != palavra[j]:\n",
    "                encontrou = False\n",
    "                break\n",
    "        if encontrou: \n",
    "            repeticoes_palavra.append(i)\n",
    "        \n",
    "    return repeticoes_palavra"
   ]
  },
  {
   "cell_type": "code",
   "execution_count": 7,
   "metadata": {},
   "outputs": [],
   "source": [
    "def encontrar_palavras_sequencia(sequencia, tamanho):\n",
    "    palavras = []\n",
    "    for i in range(len(sequencia) - tamanho + 1):\n",
    "        palavra = sequencia[i:i+tamanho]\n",
    "        palavras.append(palavra)\n",
    "    return palavras"
   ]
  },
  {
   "cell_type": "code",
   "execution_count": 8,
   "metadata": {},
   "outputs": [],
   "source": [
    "'buscar palavras repetidas nas sequencias'\n",
    "def encontrar_repeticoes_sequencia(sequencia, tamanho):\n",
    "    palavra_repeticoes = {}\n",
    "    palavras = encontrar_palavras_sequencia(sequencia, tamanho)\n",
    "    if len(palavras) != 0:\n",
    "        for palavra in palavras: \n",
    "            repeticoes = encontrar_repeticoes_palavra(sequencia, palavra) \n",
    "            palavra_repeticoes[palavra] = repeticoes\n",
    "    return palavra_repeticoes  "
   ]
  },
  {
   "cell_type": "code",
   "execution_count": 9,
   "metadata": {},
   "outputs": [],
   "source": [
    "def obter_rank_repeticoes(repeticoes_sequencias, min_ocorrencias):\n",
    "    'obter palavras repetidas em comum nas sequencias'\n",
    "    todas_palavras = []\n",
    "    contagem_palavras = {}\n",
    "    contagem_palavras_filtered = {}\n",
    "    \n",
    "    for seq_id, palavras in repeticoes_sequencias.items():\n",
    "        for palavra, repeat in palavras.items():\n",
    "            todas_palavras.append(palavra)\n",
    "    todas_palavras = set(todas_palavras)\n",
    "    \n",
    "    'obter rank das palavras mais frequentes'\n",
    "    for palavra in todas_palavras:\n",
    "        contador = 0\n",
    "        for seq_id, palavras in repeticoes_sequencias.items():     \n",
    "            if palavra  in palavras:\n",
    "                contador = contador + len(palavras[palavra])\n",
    "                contagem_palavras[palavra] = contador\n",
    "            \n",
    "    'extrair apenas as repeticoes com um numero minimo de ocorrencias'\n",
    "    for palavra, contagem in contagem_palavras.items():\n",
    "        if contagem >= min_ocorrencias:\n",
    "            contagem_palavras_filtered[palavra] = contagem\n",
    "        \n",
    "    return sorted(contagem_palavras_filtered.items(), key=lambda x: x[1], reverse=True)"
   ]
  },
  {
   "cell_type": "code",
   "execution_count": 10,
   "metadata": {},
   "outputs": [
    {
     "name": "stdout",
     "output_type": "stream",
     "text": [
      "quantidade de sequencias lidas=> 18\n"
     ]
    }
   ],
   "source": [
    "'ler arquivo fasta'\n",
    "arquivo = 'dna2.fasta'\n",
    "sequencias = leitura_fasta(arquivo)"
   ]
  },
  {
   "cell_type": "code",
   "execution_count": 11,
   "metadata": {},
   "outputs": [
    {
     "data": {
      "text/plain": [
       "[('gi|142022655|gb|EQ086233.1|255', 4894),\n",
       " ('gi|142022655|gb|EQ086233.1|16', 4804),\n",
       " ('gi|142022655|gb|EQ086233.1|91', 4635),\n",
       " ('gi|142022655|gb|EQ086233.1|454', 4564),\n",
       " ('gi|142022655|gb|EQ086233.1|293', 4338),\n",
       " ('gi|142022655|gb|EQ086233.1|396', 4076),\n",
       " ('gi|142022655|gb|EQ086233.1|45', 3511),\n",
       " ('gi|142022655|gb|EQ086233.1|250', 2867),\n",
       " ('gi|142022655|gb|EQ086233.1|527', 2646),\n",
       " ('gi|142022655|gb|EQ086233.1|4', 2095),\n",
       " ('gi|142022655|gb|EQ086233.1|277', 1432),\n",
       " ('gi|142022655|gb|EQ086233.1|75', 1352),\n",
       " ('gi|142022655|gb|EQ086233.1|304', 1151),\n",
       " ('gi|142022655|gb|EQ086233.1|594', 967),\n",
       " ('gi|142022655|gb|EQ086233.1|584', 964),\n",
       " ('gi|142022655|gb|EQ086233.1|88', 890),\n",
       " ('gi|142022655|gb|EQ086233.1|322', 442),\n",
       " ('gi|142022655|gb|EQ086233.1|346', 115)]"
      ]
     },
     "execution_count": 11,
     "metadata": {},
     "output_type": "execute_result"
    }
   ],
   "source": [
    "'obter o tamanho das sequencias'\n",
    "tamanhos = obter_tamanho_sequencias(sequencias)\n",
    "tamanhos"
   ]
  },
  {
   "cell_type": "code",
   "execution_count": null,
   "metadata": {},
   "outputs": [],
   "source": [
    "'obtem as palavras do tamanho informado nas sequencias'\n",
    "repeticoes_sequencias = {}\n",
    "for seq_id, sequencia in sequencias.items():\n",
    "    repeticoes = encontrar_repeticoes_sequencia(sequencia, 6)\n",
    "    repeticoes_sequencias[seq_id] = repeticoes"
   ]
  },
  {
   "cell_type": "code",
   "execution_count": null,
   "metadata": {},
   "outputs": [],
   "source": [
    "'''obtem as palavras em comum mais frequentes (de acordo com o numero minimo de repeticoes informado)\n",
    "e ordenadas de forma descendente '''\n",
    "rank_palavras_6 = obter_rank_repeticoes(repeticoes_sequencias, 100)\n",
    "rank_palavras_6"
   ]
  },
  {
   "cell_type": "code",
   "execution_count": null,
   "metadata": {},
   "outputs": [],
   "source": [
    "'obter orfs do frame 1 forward de cada sequencia'\n",
    "seq_forward_orfs_frame_1 = obter_orfs_sequencias(sequencias, 1)\n",
    "seq_forward_orfs_frame_1"
   ]
  },
  {
   "cell_type": "code",
   "execution_count": null,
   "metadata": {},
   "outputs": [],
   "source": [
    "'obter orfs do frame 2 forward de cada sequencia. Para cada orf são exibidas as posicoes de start, stop e o tamanho'\n",
    "seq_forward_orfs_frame_2 = obter_orfs_sequencias(sequencias, 2)\n",
    "seq_forward_orfs_frame_2"
   ]
  },
  {
   "cell_type": "code",
   "execution_count": null,
   "metadata": {},
   "outputs": [],
   "source": [
    "'obter orfs do frame 3 forward de cada sequencia'\n",
    "seq_forward_orfs_frame_3 = obter_orfs_sequencias(sequencias, 3)\n",
    "seq_forward_orfs_frame_3"
   ]
  },
  {
   "cell_type": "code",
   "execution_count": null,
   "metadata": {},
   "outputs": [],
   "source": []
  },
  {
   "cell_type": "code",
   "execution_count": null,
   "metadata": {},
   "outputs": [],
   "source": []
  },
  {
   "cell_type": "code",
   "execution_count": null,
   "metadata": {},
   "outputs": [],
   "source": []
  }
 ],
 "metadata": {
  "kernelspec": {
   "display_name": "Python 3",
   "language": "python",
   "name": "python3"
  },
  "language_info": {
   "codemirror_mode": {
    "name": "ipython",
    "version": 3
   },
   "file_extension": ".py",
   "mimetype": "text/x-python",
   "name": "python",
   "nbconvert_exporter": "python",
   "pygments_lexer": "ipython3",
   "version": "3.6.5"
  }
 },
 "nbformat": 4,
 "nbformat_minor": 2
}
