{
 "cells": [
  {
   "cell_type": "code",
   "execution_count": 1,
   "metadata": {},
   "outputs": [],
   "source": [
    "import bisect\n",
    "   \n",
    "class SubseqIndex(object):\n",
    "    \n",
    "    TOTAL_SUBSEQS = 2\n",
    "    SUBSEQS = {0: 'first', 1:'second'}\n",
    "\n",
    "    def __init__(self, t, k, ival):\n",
    "        \"\"\"ival: intervalo entre os caracteres do texto \n",
    "           k: quantidade de caracteres na chave do indice\n",
    "           t: texto\n",
    "        Transforma um texto em um indice, cujos elementos sao subsequencias do tamanho (k)\n",
    "        e extraidas de forma sequencial, respeitando o espaco  definido  entre os caracteres (ival).\n",
    "        Permite apenas realizar buscas exatas.\n",
    "        Ex: SubseqIndex(\"ATAT\", 2, 2)  retorna indice (\"AA\", 0) and (\"TT\", 1)\"\"\"\n",
    "        self.k = k  # num characters per subsequence \n",
    "        self.ival = ival  # space between them; 1=adjacent, 2=every other, etc\n",
    "        self.index = []\n",
    "        self.span = 1 + ival * (k - 1)\n",
    "        for i in range(len(t) - self.span + 1):  # for each subseq\n",
    "            self.index.append((t[i:i+self.span:ival], i))  # add (subseq, offset)\n",
    "\n",
    "        self.index.sort()  # alphabetize by subseq\n",
    "    \n",
    "    def query(self, p):\n",
    "        '''p: padrao buscado\n",
    "        Obtem os indices encontrados para determinada busca. Para isso,\n",
    "        extrai subsequencia do trecho buscado considerando o mesmo padrao que foi usado \n",
    "        para a montagem do indice. Em seguida, faz a busca no indice. Se nao encontrar, \n",
    "        faz uma nova tentativa, porem começando a subsequencia do segundo caracter. \n",
    "        Retorna os hits e se foi na primeira ou na segunda subsequencia '''\n",
    "        hits = []\n",
    "\n",
    "        for i in range (self.TOTAL_SUBSEQS):\n",
    "            \n",
    "            subseq = p[i:i+self.span:self.ival]  # query with  subseq\n",
    "            print('subseq ', self.SUBSEQS[i], ':' , subseq)\n",
    "            \n",
    "            j = bisect.bisect_left(self.index, (subseq, -1))  # binary search\n",
    "            \n",
    "            while j < len(self.index):  # collect matching index entries\n",
    "                if self.index[j][0] != subseq:\n",
    "                    break\n",
    "                hits.append([self.index[j][1], self.SUBSEQS[i]]) #[pos, first or second subseq]\n",
    "                j += 1\n",
    "                            \n",
    "            if  len(hits) > 0:\n",
    "                break\n",
    "                \n",
    "        print('hits',len(hits))\n",
    "        return hits\n"
   ]
  },
  {
   "cell_type": "code",
   "execution_count": 2,
   "metadata": {},
   "outputs": [
    {
     "name": "stdout",
     "output_type": "stream",
     "text": [
      "[('AAA', 0), ('TTT', 1)]\n"
     ]
    }
   ],
   "source": [
    "index = SubseqIndex('ATATAT', 3, 2)\n",
    "print(index.index)"
   ]
  },
  {
   "cell_type": "code",
   "execution_count": 3,
   "metadata": {},
   "outputs": [
    {
     "name": "stdout",
     "output_type": "stream",
     "text": [
      "subseq  first : TAA\n",
      "subseq  second : TTT\n",
      "hits 1\n",
      "[[1, 'second']]\n"
     ]
    }
   ],
   "source": [
    "p = 'TTATAT'\n",
    "print(index.query(p))"
   ]
  },
  {
   "cell_type": "code",
   "execution_count": 4,
   "metadata": {},
   "outputs": [
    {
     "name": "stdout",
     "output_type": "stream",
     "text": [
      "[(' -rwntmr', 13), (' -rwrpit', 27), (' doooa -', 9), (' doooce ', 23), (' esnh t ', 37), ('-rwntmr ', 2), ('-rwntmr ', 16), ('-rwrpits', 30), ('a -rwntm', 10), ('a -rwrpi', 24), ('ce  iptp', 38), ('doooa -r', 12), ('doooce  ', 26), ('e  iptpe', 41), ('esnh t c', 40), ('mr doooa', 3), ('mr doooc', 17), ('mr esnh ', 31), ('ntmr doo', 11), ('ntmr esn', 25), ('oa -rwnt', 7), ('oa -rwrp', 21), ('oce  ipt', 35), ('ooa -rwn', 4), ('ooa -rwr', 18), ('ooce  ip', 32), ('oooa -rw', 1), ('oooa -rw', 15), ('oooce  i', 29), ('r doooa ', 6), ('r doooce', 20), ('r esnh t', 34), ('rpitseya', 39), ('rwntmr d', 5), ('rwntmr e', 19), ('rwrpitse', 33), ('tmr dooo', 0), ('tmr dooo', 14), ('tmr esnh', 28), ('wntmr do', 8), ('wntmr es', 22), ('wrpitsey', 36)]\n"
     ]
    }
   ],
   "source": [
    "t = 'to-morrow and to-morrow and to-morrow creeps in this petty pace'\n",
    "p = 'to-morrow and to-morrow '\n",
    "index = SubseqIndex(t, 8, 3)\n",
    "print(index.index)"
   ]
  },
  {
   "cell_type": "code",
   "execution_count": 5,
   "metadata": {},
   "outputs": [
    {
     "name": "stdout",
     "output_type": "stream",
     "text": [
      "subseq  first : tmr dooo\n",
      "hits 2\n",
      "[[0, 'first'], [14, 'first']]\n"
     ]
    }
   ],
   "source": [
    "print(index.query(p))"
   ]
  },
  {
   "cell_type": "code",
   "execution_count": 6,
   "metadata": {},
   "outputs": [
    {
     "data": {
      "text/plain": [
       "'Write a function that, given a length-24 pattern P and given \\na SubseqIndex\\x0berb|SubseqIndex|SubseqIndex object built with k = 8 and ival = 3,\\nfinds all approximate occurrences of P within T with up to 2 mismatches.'"
      ]
     },
     "execution_count": 6,
     "metadata": {},
     "output_type": "execute_result"
    }
   ],
   "source": [
    "'''Write a function that, given a length-24 pattern P and given \n",
    "a SubseqIndex\\verb|SubseqIndex|SubseqIndex object built with k = 8 and ival = 3,\n",
    "finds all approximate occurrences of P within T with up to 2 mismatches.'''"
   ]
  },
  {
   "cell_type": "code",
   "execution_count": 7,
   "metadata": {},
   "outputs": [],
   "source": [
    "import bisect\n",
    "   \n",
    "class ApproximateSubseqIndex(SubseqIndex):\n",
    "    \n",
    "    def query(self, p, n, t):\n",
    "        '''p: padrao buscado\n",
    "           n: numero de mismatches\n",
    "           t: texto\n",
    "        Obtem os indices encontrados para determinada busca. Para isso,\n",
    "        extrai subsequencia do trecho buscado considerando o mesmo padrao que foi usado \n",
    "        para a montagem do indice. Em seguida, faz a busca no indice. Se nao encontrar, \n",
    "        faz uma nova tentativa, porem começando a subsequencia do segundo caracter. \n",
    "        Se encontrar, compara os o trecho buscado com o respectivo trecho no texto e considera\n",
    "        match se houver no maximo n diferencas entre eles.\n",
    "        Retorna os hits e se foi na primeira ou na segunda subsequencia '''\n",
    "        hits = []\n",
    "\n",
    "        for i in range (super().TOTAL_SUBSEQS):\n",
    "            \n",
    "            subseq = p[i:i+self.span:self.ival]  # query with  subseq\n",
    "            print('subseq ', super().SUBSEQS[i], ':' , subseq)\n",
    "        \n",
    "            j = bisect.bisect_left(self.index, (subseq, -1))  # binary search\n",
    "        \n",
    "           #compara a entrada no indice com a subseq. Permite ate n mismatches\n",
    "            while j < len(self.index):\n",
    "            \n",
    "                if self.index[j][0] != subseq:\n",
    "                    break\n",
    "            \n",
    "                hits.append([self.index[j][1], super().SUBSEQS[i]])\n",
    "                j += 1 \n",
    "                \n",
    "            if  len(hits) > 0:\n",
    "                break\n",
    "                \n",
    "        print('hits', hits)\n",
    "        return self.check_mismatches_palavra_texto(hits, p, n, t)\n",
    "    \n",
    "    def count_mismatches(self, t, ṕ, n):\n",
    "        mismatches = 0            \n",
    "        print('t: ', t, ', p:', p)\n",
    "        for i in  range (len(ṕ)):\n",
    "                if not p[i] == t[i]:\n",
    "                    mismatches += 1\n",
    "                    if mismatches > n:\n",
    "                        break                 \n",
    "        return mismatches\n",
    "    \n",
    "    def check_mismatches_palavra_texto(self, hits, p, n, t):\n",
    "        matches_aproximados = []\n",
    "        for m in hits:\n",
    "            if m[1] == super().SUBSEQS[0]: #first subseq\n",
    "                pos = m[0]\n",
    "                mismatches = self.count_mismatches(t[pos:pos+len(p)], p, n)\n",
    "            else: #second subseq\n",
    "                pos = m[0]-1\n",
    "                mismatches = self.count_mismatches(t[pos:pos+len(p)], p, n)\n",
    "    \n",
    "            print('mismatches para pos ', m, '=>', mismatches)\n",
    "                \n",
    "            if mismatches <= n:\n",
    "                matches_aproximados.append(m)\n",
    "            else: \n",
    "                print('mismatch excedido!')\n",
    "                \n",
    "        return list(matches_aproximados)"
   ]
  },
  {
   "cell_type": "code",
   "execution_count": 8,
   "metadata": {},
   "outputs": [
    {
     "name": "stdout",
     "output_type": "stream",
     "text": [
      "[(' -Xwrpit', 27), (' -rwntXX', 13), (' doooa -', 9), (' doooce ', 23), (' esnh t ', 37), ('-Xwrpits', 30), ('-rwntXX ', 16), ('-rwntmr ', 2), ('X esnh t', 34), ('XX esnh ', 31), ('Xwrpitse', 33), ('a -Xwrpi', 24), ('a -rwntX', 10), ('ce  iptp', 38), ('doooa -X', 12), ('doooce  ', 26), ('e  iptpe', 41), ('esnh t c', 40), ('mr doooa', 3), ('mr doooc', 17), ('ntXX esn', 25), ('ntmr doo', 11), ('oa -Xwrp', 21), ('oa -rwnt', 7), ('oce  ipt', 35), ('ooa -Xwr', 18), ('ooa -rwn', 4), ('ooce  ip', 32), ('oooa -Xw', 15), ('oooa -rw', 1), ('oooce  i', 29), ('r doooa ', 6), ('r doooce', 20), ('rpitseya', 39), ('rwntXX e', 19), ('rwntmr d', 5), ('tXX esnh', 28), ('tmr dooo', 0), ('tmr dooo', 14), ('wntXX es', 22), ('wntmr do', 8), ('wrpitsey', 36)]\n"
     ]
    }
   ],
   "source": [
    "t = 'to-morrow and to-morrow and to-XoXXow creeps in this petty pace'\n",
    "p = 'to-morrow and to-morrow '\n",
    "''' #cria um indice com subsequencias de 8 caracteres com intervalo de 3 a partir do texto.\n",
    "A cada entrada no indice é associada a posicao de inicio no texto'''\n",
    "index_aproximado = ApproximateSubseqIndex(t, 8, 3)\n",
    "print(index_aproximado.index)"
   ]
  },
  {
   "cell_type": "code",
   "execution_count": 9,
   "metadata": {},
   "outputs": [
    {
     "name": "stdout",
     "output_type": "stream",
     "text": [
      "subseq  first : tmr dooo\n",
      "hits [[0, 'first'], [14, 'first']]\n",
      "t:  to-morrow and to-morrow  , p: to-morrow and to-morrow \n",
      "mismatches para pos  [0, 'first'] => 0\n",
      "t:  to-morrow and to-XoXXow  , p: to-morrow and to-morrow \n",
      "mismatches para pos  [14, 'first'] => 3\n",
      "mismatch excedido!\n",
      "[[0, 'first']]\n"
     ]
    }
   ],
   "source": [
    "print(index_aproximado.query(p,2,t))"
   ]
  },
  {
   "cell_type": "code",
   "execution_count": 10,
   "metadata": {},
   "outputs": [],
   "source": [
    "#!wget http://www.gutenberg.org/ebooks/1110.txt.utf-8\n",
    "t = open('1110.txt.utf-8').read()\n",
    "p = 'English measure backward'\n",
    "subseq_ind = SubseqIndex(t, 8,3)"
   ]
  },
  {
   "cell_type": "code",
   "execution_count": 11,
   "metadata": {},
   "outputs": [
    {
     "name": "stdout",
     "output_type": "stream",
     "text": [
      "subseq  first : Elheu ca\n",
      "hits 1\n",
      "[[132574, 'first']]\n"
     ]
    }
   ],
   "source": [
    "print(subseq_ind.query(p))"
   ]
  },
  {
   "cell_type": "code",
   "execution_count": 12,
   "metadata": {},
   "outputs": [
    {
     "name": "stdout",
     "output_type": "stream",
     "text": [
      "subseq  first : Elheu ca\n",
      "hits [[132574, 'first']]\n",
      "t:  English measure backward , p: English measure backward\n",
      "mismatches para pos  [132574, 'first'] => 0\n",
      "[[132574, 'first']]\n"
     ]
    }
   ],
   "source": [
    "t = open('1110.txt.utf-8').read()\n",
    "p = 'English measure backward'\n",
    "index_aproximado = ApproximateSubseqIndex(t, 8, 3)\n",
    "print(index_aproximado.query(p,2,t))"
   ]
  },
  {
   "cell_type": "code",
   "execution_count": null,
   "metadata": {},
   "outputs": [],
   "source": []
  },
  {
   "cell_type": "code",
   "execution_count": null,
   "metadata": {},
   "outputs": [],
   "source": []
  },
  {
   "cell_type": "code",
   "execution_count": null,
   "metadata": {},
   "outputs": [],
   "source": []
  },
  {
   "cell_type": "code",
   "execution_count": null,
   "metadata": {},
   "outputs": [],
   "source": []
  }
 ],
 "metadata": {
  "kernelspec": {
   "display_name": "Python 3",
   "language": "python",
   "name": "python3"
  },
  "language_info": {
   "codemirror_mode": {
    "name": "ipython",
    "version": 3
   },
   "file_extension": ".py",
   "mimetype": "text/x-python",
   "name": "python",
   "nbconvert_exporter": "python",
   "pygments_lexer": "ipython3",
   "version": "3.6.5"
  }
 },
 "nbformat": 4,
 "nbformat_minor": 2
}
