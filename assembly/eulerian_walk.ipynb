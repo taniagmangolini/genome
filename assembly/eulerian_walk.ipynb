{
 "cells": [
  {
   "cell_type": "code",
   "execution_count": 44,
   "metadata": {},
   "outputs": [],
   "source": [
    "def find_eulerian_walk(graph):\n",
    "    tour = []\n",
    "\n",
    "    start_vertex = graph[0][0]\n",
    "    tour.append(start_vertex)\n",
    "\n",
    "    while len(graph) > 0:\n",
    "        current_vertex = tour[len(tour) - 1]\n",
    "        for edge in graph:\n",
    "            if current_vertex in edge:\n",
    "                if edge[0] == current_vertex:\n",
    "                    current_vertex = edge[1]\n",
    "                elif edge[1] == current_vertex:\n",
    "                    current_vertex = edge[0]\n",
    "                else:\n",
    "                    # if no tour is possible\n",
    "                    return False\n",
    "\n",
    "                graph.remove(edge)\n",
    "                tour.append(current_vertex)\n",
    "                break\n",
    "    return tour"
   ]
  },
  {
   "cell_type": "code",
   "execution_count": 45,
   "metadata": {},
   "outputs": [],
   "source": [
    "def recontruir_seq (walks):\n",
    "    seq = ''\n",
    "    for i in range(len(walks)):\n",
    "        if len(walks[i]) > 1:\n",
    "            stop = len(walks[i]) - 1\n",
    "            seq += walks[i][:stop]\n",
    "            if i == (len(walks)-1): \n",
    "                seq += walks[i][stop:]\n",
    "        else:\n",
    "            seq = ''.join(walks)\n",
    "            break\n",
    "    return seq"
   ]
  },
  {
   "cell_type": "code",
   "execution_count": 47,
   "metadata": {},
   "outputs": [
    {
     "name": "stdout",
     "output_type": "stream",
     "text": [
      "['1', '2', '3', '1']\n"
     ]
    }
   ],
   "source": [
    "graph = [('1', '2'), ('2', '3'), ('3', '1')]\n",
    "walks = find_eulerian_walk(graph)\n",
    "print(walks)"
   ]
  },
  {
   "cell_type": "code",
   "execution_count": 48,
   "metadata": {},
   "outputs": [
    {
     "name": "stdout",
     "output_type": "stream",
     "text": [
      "ACGCGTCG\n"
     ]
    }
   ],
   "source": [
    "graph = [('AC', 'CG'), ('CG', 'GC'), ('GC', 'CG'), ('CG', 'GT'), ('GT', 'TC'), ('TC', 'CG')]\n",
    "' ACGCGTCG'\n",
    "# ACGCGTCG\n",
    "walks = find_eulerian_walk(graph)\n",
    "sequencia = recontruir_seq(walks)\n",
    "print(sequencia)"
   ]
  },
  {
   "cell_type": "code",
   "execution_count": null,
   "metadata": {},
   "outputs": [],
   "source": []
  }
 ],
 "metadata": {
  "kernelspec": {
   "display_name": "Python 3",
   "language": "python",
   "name": "python3"
  },
  "language_info": {
   "codemirror_mode": {
    "name": "ipython",
    "version": 3
   },
   "file_extension": ".py",
   "mimetype": "text/x-python",
   "name": "python",
   "nbconvert_exporter": "python",
   "pygments_lexer": "ipython3",
   "version": "3.6.5"
  }
 },
 "nbformat": 4,
 "nbformat_minor": 2
}
