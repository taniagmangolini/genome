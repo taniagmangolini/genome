{
 "cells": [
  {
   "cell_type": "code",
   "execution_count": 1,
   "metadata": {},
   "outputs": [
    {
     "data": {
      "text/plain": [
       "'permite encontrar a menor string possivel formada a partir de uma lista de outras strings'"
      ]
     },
     "execution_count": 1,
     "metadata": {},
     "output_type": "execute_result"
    }
   ],
   "source": [
    "import itertools\n",
    "'''permite encontrar a menor string possivel formada a partir de uma lista de outras strings.\n",
    "No entanto faz isso na forca bruta, sendo extremamento custoso computacionalmente.\n",
    "Alem disso, em caso de genomas repetidos, as regioes repetidas sao excessivamente colapsadas, de forma \n",
    "que se torna impossivel saber quantas repeticoes existem ''''"
   ]
  },
  {
   "cell_type": "code",
   "execution_count": 2,
   "metadata": {},
   "outputs": [],
   "source": [
    "def find_overlap(sufix,prefix,n):\n",
    "    '''encontra overlaps de tamanho n entre o sufixo e o prefixo \n",
    "       Ex -  overlap de tamanho 4:\n",
    "           CGCGAAGT (sufixo)\n",
    "               AAGTCCCCCAAA (prefixo)\n",
    "    '''\n",
    "    start = 0\n",
    "    while True:\n",
    "        start =  sufix.find(prefix[:n], start)\n",
    "        \n",
    "        if start == -1: # nao encontrou overlap de tamanho n\n",
    "            return 0\n",
    "        \n",
    "        if prefix.startswith(sufix[start:]):\n",
    "            return len(sufix) - start\n",
    "        \n",
    "        start += 1"
   ]
  },
  {
   "cell_type": "code",
   "execution_count": 21,
   "metadata": {},
   "outputs": [],
   "source": [
    "def find_scs(string_list):\n",
    "    shortest_superstring = None\n",
    "    #parmuta as strings de forma a obter todas as combinacoes possiveis e depois procura os overlap entre os pares\n",
    "    for permuts in itertools.permutations(string_list):\n",
    "        #pega a primeira string do conjunto\n",
    "        sup = permuts[0]\n",
    "        #itera pelas demais\n",
    "        for i in range(len(string_list)-1):\n",
    "            #obtem o valor de overlap\n",
    "            overlap = find_overlap(permuts[i], permuts[i+1], n=1)\n",
    "            #adiciona a sup a parte do prefixo que não teve overlap\n",
    "            sup += permuts[i+1][overlap:]\n",
    "        #atualiza shortest_superstring\n",
    "        if shortest_superstring is None or len(sup) < len(shortest_superstring):\n",
    "                shortest_superstring = sup\n",
    "            \n",
    "    return shortest_superstring"
   ]
  },
  {
   "cell_type": "code",
   "execution_count": 22,
   "metadata": {},
   "outputs": [
    {
     "name": "stdout",
     "output_type": "stream",
     "text": [
      "shortest =>  GACACGGTACGAGCTTCGGA\n"
     ]
    }
   ],
   "source": [
    "print('shortest => ', find_scs(['ACGGTACGAGC', 'GAGCTTCGGA', 'GACACGG']))"
   ]
  },
  {
   "cell_type": "code",
   "execution_count": 25,
   "metadata": {},
   "outputs": [
    {
     "name": "stdout",
     "output_type": "stream",
     "text": [
      "shortest =>  EFGAABCDEFD\n"
     ]
    }
   ],
   "source": [
    "print('shortest => ', find_scs(['ABCDEF', 'ABCDEFD', 'EFGAAB']))"
   ]
  },
  {
   "cell_type": "code",
   "execution_count": null,
   "metadata": {},
   "outputs": [],
   "source": []
  },
  {
   "cell_type": "code",
   "execution_count": null,
   "metadata": {},
   "outputs": [],
   "source": []
  }
 ],
 "metadata": {
  "kernelspec": {
   "display_name": "Python 3",
   "language": "python",
   "name": "python3"
  },
  "language_info": {
   "codemirror_mode": {
    "name": "ipython",
    "version": 3
   },
   "file_extension": ".py",
   "mimetype": "text/x-python",
   "name": "python",
   "nbconvert_exporter": "python",
   "pygments_lexer": "ipython3",
   "version": "3.6.5"
  }
 },
 "nbformat": 4,
 "nbformat_minor": 2
}
