{
 "cells": [
  {
   "cell_type": "code",
   "execution_count": 55,
   "metadata": {},
   "outputs": [
    {
     "data": {
      "text/plain": [
       "'permite encontrar a menor string possivel formada a partir de uma lista de outras strings.\\nNo entanto faz isso na forca bruta, sendo extremamento custoso computacionalmente.\\nAlem disso, em caso de genomas repetidos, as regioes repetidas sao excessivamente colapsadas, de forma \\nque se torna impossivel saber quantas repeticoes existem.\\nits possible for there to be multiple different shortest common superstrings for the same set of input strings.'"
      ]
     },
     "execution_count": 55,
     "metadata": {},
     "output_type": "execute_result"
    }
   ],
   "source": [
    "import itertools\n",
    "'''permite encontrar a menor string possivel formada a partir de uma lista de outras strings.\n",
    "No entanto faz isso na forca bruta, sendo extremamento custoso computacionalmente.\n",
    "Alem disso, em caso de genomas repetidos, as regioes repetidas sao excessivamente colapsadas, de forma \n",
    "que se torna impossivel saber quantas repeticoes existem.\n",
    "its possible for there to be multiple different shortest common superstrings for the same set of input strings.'''\n"
   ]
  },
  {
   "cell_type": "code",
   "execution_count": 56,
   "metadata": {},
   "outputs": [],
   "source": [
    "def find_overlap(sufix,prefix,n):\n",
    "    '''encontra overlaps de tamanho n entre o sufixo e o prefixo \n",
    "       Ex -  overlap de tamanho 4:\n",
    "           CGCGAAGT (sufixo)\n",
    "               AAGTCCCCCAAA (prefixo)\n",
    "    '''\n",
    "    start = 0\n",
    "    while True:\n",
    "        start =  sufix.find(prefix[:n], start)\n",
    "        \n",
    "        if start == -1: # nao encontrou overlap de tamanho n\n",
    "            return 0\n",
    "        \n",
    "        if prefix.startswith(sufix[start:]):\n",
    "            return len(sufix) - start\n",
    "        \n",
    "        start += 1"
   ]
  },
  {
   "cell_type": "code",
   "execution_count": 57,
   "metadata": {},
   "outputs": [],
   "source": [
    "def find_scs(string_list):\n",
    "    shortest_superstring = None\n",
    "    all_scs = set()\n",
    "    #parmuta as strings de forma a obter todas as combinacoes possiveis e depois procura os overlap entre os pares\n",
    "    for permuts in itertools.permutations(string_list):\n",
    "        #pega a primeira string do conjunto\n",
    "        sup = permuts[0]\n",
    "        #itera pelas demais\n",
    "        for i in range(len(string_list)-1):\n",
    "            #obtem o valor de overlap\n",
    "            overlap = find_overlap(permuts[i], permuts[i+1], n=1)\n",
    "            #adiciona a sup a parte do prefixo que não teve overlap\n",
    "            sup += permuts[i+1][overlap:]\n",
    "        \n",
    "        #pode, eventualmente, ter uma scs do mesmo tamanho da superstring. coloca na lista as ambiguidades\n",
    "        if shortest_superstring is not None and len(shortest_superstring) == len(sup):\n",
    "            all_scs.add(sup)\n",
    "        \n",
    "        #atualiza shortest_superstring   \n",
    "        if shortest_superstring is None or len(sup) < len(shortest_superstring):\n",
    "                shortest_superstring = sup\n",
    "        \n",
    "    return shortest_superstring, all_scs"
   ]
  },
  {
   "cell_type": "code",
   "execution_count": 58,
   "metadata": {},
   "outputs": [
    {
     "name": "stdout",
     "output_type": "stream",
     "text": [
      "shortest =>  ('GACACGGTACGAGCTTCGGA', {'GAGCTTCGGACACGGTACGAGC'})\n"
     ]
    }
   ],
   "source": [
    "print('shortest => ', find_scs(['ACGGTACGAGC', 'GAGCTTCGGA', 'GACACGG']))"
   ]
  },
  {
   "cell_type": "code",
   "execution_count": 59,
   "metadata": {},
   "outputs": [
    {
     "name": "stdout",
     "output_type": "stream",
     "text": [
      "shortest =>  ('EFGAABCDEFD', set())\n"
     ]
    }
   ],
   "source": [
    "print('shortest => ', find_scs(['ABCDEF', 'ABCDEFD', 'EFGAAB']))"
   ]
  },
  {
   "cell_type": "code",
   "execution_count": 60,
   "metadata": {},
   "outputs": [
    {
     "name": "stdout",
     "output_type": "stream",
     "text": [
      "scs: CCTTGGATTGC 11\n",
      "Outras scs: \n",
      "TGGATTGCCTT 11\n",
      "GATTGCCTTGG 11\n",
      "TGCCTTGGATT 11\n"
     ]
    }
   ],
   "source": [
    "scs, all_scs = find_scs(['CCT', 'CTT', 'TGC', 'TGG', 'GAT', 'ATT'])\n",
    "print('scs:', scs, len(scs) )\n",
    "print('Outras scs: ')\n",
    "for i in all_scs:\n",
    "    if len(i)  == len(scs):\n",
    "        print(i, len(i))"
   ]
  },
  {
   "cell_type": "code",
   "execution_count": 63,
   "metadata": {},
   "outputs": [
    {
     "name": "stdout",
     "output_type": "stream",
     "text": [
      "scs: GTCCAGCAGAGCAAGTGATGCGAGAGCTGCCCATCCTCCAACCAGCATGCCCCTAGACATTGACACTGCATCGGAGTCAGGCCAAGATCCGCAGGACAGTGGAGTACGACTTCAGAGATCTCACTTGGTGTATCAACCCGCCAGAGAGAATCAAATTGGATTATGATCAATACTGTGCAGATGTGGCTGCTGAAGAACTCGAGTTAATTGAAGCCCTAGATTACATTTTCATAACTGATGACATACATCTGACAGGGGAGATTTTCTCATTTTTCAGAAGTTTCGGCCACCCCAGACTTGCAAATTTTGATCTCTCTTGGCTTCACAATCAATTCAACCATGACCCGAGATGTAGTCATACCCCTCCTCACAAACAACGATCTCTTAATAAGGATGGCAATGACAGAGACCGCTATGACCATTGATGCTAGGTATGCAGAACTTCTAGGAAGAGTCAGATACATGTGGAAACTGATAGATGGTTTCTTCCCTGCACTC 498\n"
     ]
    }
   ],
   "source": [
    "scs, all_scs = find_scs(['GTCCAGCAGAGCAAGTGATGCGAGAGCTGCCCATCCTCCAACCAGCATGCCCCTAGACATTGACACTGCATCGGAGTCAGGCCAAGATCCGCAGGACAGT', \n",
    "                         'GGAGTACGACTTCAGAGATCTCACTTGGTGTATCAACCCGCCAGAGAGAATCAAATTGGATTATGATCAATACTGTGCAGATGTGGCTGCTGAAGAACTC',\n",
    "                         'GCAAATTTTGATCTCTCTTGGCTTCACAATCAATTCAACCATGACCCGAGATGTAGTCATACCCCTCCTCACAAACAACGATCTCTTAATAAGGATGGCA',\n",
    "                         'GAGTTAATTGAAGCCCTAGATTACATTTTCATAACTGATGACATACATCTGACAGGGGAGATTTTCTCATTTTTCAGAAGTTTCGGCCACCCCAGACTTG',\n",
    "                         'AATGACAGAGACCGCTATGACCATTGATGCTAGGTATGCAGAACTTCTAGGAAGAGTCAGATACATGTGGAAACTGATAGATGGTTTCTTCCCTGCACTC'])\n",
    "                         \n",
    "print('scs:', scs, len(scs) )"
   ]
  },
  {
   "cell_type": "code",
   "execution_count": null,
   "metadata": {},
   "outputs": [],
   "source": []
  },
  {
   "cell_type": "code",
   "execution_count": null,
   "metadata": {},
   "outputs": [],
   "source": []
  },
  {
   "cell_type": "code",
   "execution_count": null,
   "metadata": {},
   "outputs": [],
   "source": []
  }
 ],
 "metadata": {
  "kernelspec": {
   "display_name": "Python 3",
   "language": "python",
   "name": "python3"
  },
  "language_info": {
   "codemirror_mode": {
    "name": "ipython",
    "version": 3
   },
   "file_extension": ".py",
   "mimetype": "text/x-python",
   "name": "python",
   "nbconvert_exporter": "python",
   "pygments_lexer": "ipython3",
   "version": "3.6.5"
  }
 },
 "nbformat": 4,
 "nbformat_minor": 2
}
