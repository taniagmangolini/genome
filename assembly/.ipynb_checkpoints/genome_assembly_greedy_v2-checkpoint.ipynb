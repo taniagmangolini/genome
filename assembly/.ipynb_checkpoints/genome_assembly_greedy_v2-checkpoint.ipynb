{
 "cells": [
  {
   "cell_type": "code",
   "execution_count": 1,
   "metadata": {},
   "outputs": [],
   "source": [
    "import itertools \n",
    "import collections"
   ]
  },
  {
   "cell_type": "code",
   "execution_count": 2,
   "metadata": {},
   "outputs": [],
   "source": [
    "def leitura_fasta_q(fasta_q):\n",
    "    'Processamento de arquivo fastaq e retorno as sequencias lidas'\n",
    "    reads = [] \n",
    "    #processa arquivo\n",
    "    with open (fasta_q) as fq:\n",
    "        while True:\n",
    "            fq.readline() #skip line\n",
    "            sequencia =  fq.readline().rstrip()\n",
    "            fq.readline() #skip\n",
    "            qualidade= fq.readline().rstrip()\n",
    "            \n",
    "            if len(sequencia) == 0 or len(qualidade) == 0:\n",
    "                break\n",
    "                \n",
    "            reads.append(sequencia)\n",
    "            \n",
    "    return reads"
   ]
  },
  {
   "cell_type": "code",
   "execution_count": 3,
   "metadata": {},
   "outputs": [],
   "source": [
    "def obter_qtd_bases(sequencia):\n",
    "    count = collections.Counter()\n",
    "    for seq in sequencia:\n",
    "        count.update(seq)\n",
    "    print(count)"
   ]
  },
  {
   "cell_type": "code",
   "execution_count": 4,
   "metadata": {},
   "outputs": [],
   "source": [
    "def get_kmers(read, n):\n",
    "    'subdivide o texto em strings de tamanho k'\n",
    "    kmers = []\n",
    "    for i in range (len(read) - n + 1):\n",
    "        kmers.append([read[i:i + n],i])\n",
    "    return kmers"
   ]
  },
  {
   "cell_type": "code",
   "execution_count": 5,
   "metadata": {},
   "outputs": [],
   "source": [
    "def find_overlap(sufix,prefix,n):\n",
    "    '''encontra overlaps de tamanho n entre o sufixo e o prefixo \n",
    "       Ex -  overlap de tamanho 4:\n",
    "           CGCGAAGT (sufixo)\n",
    "               AAGTCCCCCAAA (prefixo)\n",
    "    '''\n",
    "    start = 0\n",
    "    while True:\n",
    "        start =  sufix.find(prefix[:n], start)\n",
    "        \n",
    "        if start == -1: # nao encontrou overlap de tamanho n\n",
    "            return 0\n",
    "        \n",
    "        if prefix.startswith(sufix[start:]):\n",
    "            return len(sufix) - start\n",
    "        \n",
    "        start += 1"
   ]
  },
  {
   "cell_type": "code",
   "execution_count": 6,
   "metadata": {},
   "outputs": [],
   "source": [
    "def obter_max_overlap (reads, tamanho):\n",
    "    read_a, read_b = None, None\n",
    "    maior_overlap = 0\n",
    "    for a, b in itertools.permutations(reads,2):\n",
    "        overlap = find_overlap(a,b,tamanho)\n",
    "        if overlap > maior_overlap:\n",
    "            read_a, read_b = a, b\n",
    "            maior_overlap = overlap\n",
    "    return  read_a, read_b, maior_overlap\n",
    "    "
   ]
  },
  {
   "cell_type": "code",
   "execution_count": 7,
   "metadata": {},
   "outputs": [],
   "source": [
    "def scs_greedy (reads, tamanho):\n",
    "    read_a, read_b, maior_overlap = obter_max_overlap(reads, tamanho)\n",
    "    while maior_overlap > 0 :\n",
    "        reads.remove(read_a)\n",
    "        reads.remove(read_b)\n",
    "        reads.append(read_a+read_b[maior_overlap:])\n",
    "        read_a, read_b, maior_overlap = obter_max_overlap(reads, tamanho)\n",
    "    return ''.join(reads)"
   ]
  },
  {
   "cell_type": "code",
   "execution_count": 34,
   "metadata": {},
   "outputs": [],
   "source": [
    "reads = leitura_fasta_q('ads1_week4_reads.fq')\n",
    "reads_copy = reads"
   ]
  },
  {
   "cell_type": "code",
   "execution_count": 35,
   "metadata": {},
   "outputs": [
    {
     "name": "stdout",
     "output_type": "stream",
     "text": [
      "Tamanho kmer_reads:  15865\n"
     ]
    }
   ],
   "source": [
    "#Para cada read, obtem os kmers de tamanho n e adiciona ao dicionario de kmers\n",
    "kmer_reads = {}\n",
    "n = 30\n",
    "\n",
    "#associa as reads aos kmers\n",
    "for read in reads:\n",
    "    kmers = get_kmers(read, n)\n",
    "    for kmer in kmers:\n",
    "        # inicializa a key no dict, se nao existir\n",
    "        if  kmer[0] not in kmer_reads.keys():\n",
    "            kmer_reads[kmer[0]] = set()\n",
    "        #adiciona a read    \n",
    "        kmer_reads[kmer[0]].add(read)\n",
    "print('Tamanho kmer_reads: ', len(kmer_reads))"
   ]
  },
  {
   "cell_type": "code",
   "execution_count": 40,
   "metadata": {},
   "outputs": [],
   "source": [
    "'''para cada read, pega o sufixo e busca no dicionario kmer_reads as outras reads que tem esse kmer e retorna a que \n",
    "tem o maior overlap com cada read'''\n",
    "max_overlap_pairs = {}\n",
    "for read in reads:\n",
    "    start = len(read) - n\n",
    "    sufixo = read[start:]\n",
    "    reads_com_sufixo = kmer_reads[sufixo]\n",
    "    max_read_overlap = ['', '', 0]\n",
    "    for r in reads_com_sufixo:\n",
    "        if r != read:\n",
    "            overlap = find_overlap(read, r, n)\n",
    "            if overlap > max_read_overlap[2] :\n",
    "                max_read_overlap = [read, r, overlap]\n",
    "    if max_read_overlap != ['', '', 0]:\n",
    "        max_overlap_pairs[(max_read_overlap[0], max_read_overlap[1])] = max_read_overlap[2]\n",
    "        if max_read_overlap[0] in reads_copy:\n",
    "            reads_copy.remove(max_read_overlap[0])\n",
    "        if max_read_overlap[1] in reads_copy:\n",
    "            reads_copy.remove(max_read_overlap[1])\n",
    "        reads_copy.append(max_read_overlap[0]+max_read_overlap[1][max_read_overlap[2]:])"
   ]
  },
  {
   "cell_type": "code",
   "execution_count": 43,
   "metadata": {},
   "outputs": [
    {
     "name": "stdout",
     "output_type": "stream",
     "text": [
      "15894\n"
     ]
    }
   ],
   "source": [
    "scs = scs_greedy (reads_copy, n)\n",
    "print(len(scs))"
   ]
  },
  {
   "cell_type": "code",
   "execution_count": null,
   "metadata": {},
   "outputs": [],
   "source": []
  },
  {
   "cell_type": "code",
   "execution_count": null,
   "metadata": {},
   "outputs": [],
   "source": []
  },
  {
   "cell_type": "code",
   "execution_count": null,
   "metadata": {},
   "outputs": [],
   "source": []
  },
  {
   "cell_type": "code",
   "execution_count": null,
   "metadata": {},
   "outputs": [],
   "source": []
  },
  {
   "cell_type": "code",
   "execution_count": null,
   "metadata": {},
   "outputs": [],
   "source": []
  }
 ],
 "metadata": {
  "kernelspec": {
   "display_name": "Python 3",
   "language": "python",
   "name": "python3"
  },
  "language_info": {
   "codemirror_mode": {
    "name": "ipython",
    "version": 3
   },
   "file_extension": ".py",
   "mimetype": "text/x-python",
   "name": "python",
   "nbconvert_exporter": "python",
   "pygments_lexer": "ipython3",
   "version": "3.6.5"
  }
 },
 "nbformat": 4,
 "nbformat_minor": 2
}
