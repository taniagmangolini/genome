{
 "cells": [
  {
   "cell_type": "code",
   "execution_count": 4,
   "metadata": {},
   "outputs": [],
   "source": [
    "import itertools"
   ]
  },
  {
   "cell_type": "code",
   "execution_count": 5,
   "metadata": {},
   "outputs": [
    {
     "data": {
      "text/plain": [
       "'permite encontrar a menor string possivel formada a partir de uma lista de outras strings.\\nNo entanto, faz de forma diferente do algoritmo de forca bruta. Ele parte do maior overlap para o menor.\\nO problema e que nem sempre ele retorna a menor superstring. Seria necessario repetir muitas vezes ter certeza do resultado'"
      ]
     },
     "execution_count": 5,
     "metadata": {},
     "output_type": "execute_result"
    }
   ],
   "source": [
    "'''permite encontrar a menor string possivel formada a partir de uma lista de outras strings.\n",
    "No entanto, faz de forma diferente do algoritmo de forca bruta. Ele parte do maior overlap para o menor.\n",
    "O problema e que nem sempre ele retorna a menor superstring. Seria necessario repetir muitas vezes ter certeza do resultado.\n",
    "Alem disso, em caso de genomas repetidos, as regioes repetidas sao excessivamente colapsadas, de forma \n",
    "que se torna impossivel saber quantas repeticoes existem'''"
   ]
  },
  {
   "cell_type": "code",
   "execution_count": 2,
   "metadata": {},
   "outputs": [],
   "source": [
    "def find_overlap(sufix,prefix,n):\n",
    "    '''encontra overlaps de tamanho n entre o sufixo e o prefixo \n",
    "       Ex -  overlap de tamanho 4:\n",
    "           CGCGAAGT (sufixo)\n",
    "               AAGTCCCCCAAA (prefixo)\n",
    "    '''\n",
    "    start = 0\n",
    "    while True:\n",
    "        start =  sufix.find(prefix[:n], start)\n",
    "        \n",
    "        if start == -1: # nao encontrou overlap de tamanho n\n",
    "            return 0\n",
    "        \n",
    "        if prefix.startswith(sufix[start:]):\n",
    "            return len(sufix) - start\n",
    "        \n",
    "        start += 1"
   ]
  },
  {
   "cell_type": "code",
   "execution_count": 6,
   "metadata": {},
   "outputs": [],
   "source": [
    "def obter_max_overlap (reads, tamanho):\n",
    "    read_a, read_b = None, None\n",
    "    maior_overlap = 0\n",
    "    for a, b in itertools.permutations(reads,2):\n",
    "        overlap = find_overlap(a,b,tamanho)\n",
    "        if overlap > maior_overlap:\n",
    "            read_a, read_b = a, b\n",
    "            maior_overlap = overlap\n",
    "    return  read_a, read_b, maior_overlap\n",
    "    "
   ]
  },
  {
   "cell_type": "code",
   "execution_count": 9,
   "metadata": {},
   "outputs": [],
   "source": [
    "def scs_greedy (reads, tamanho):\n",
    "    read_a, read_b, maior_overlap = obter_max_overlap(reads, tamanho)\n",
    "    while maior_overlap > 0 :\n",
    "        reads.remove(read_a)\n",
    "        reads.remove(read_b)\n",
    "        reads.append(read_a+read_b[maior_overlap:])\n",
    "        read_a, read_b, maior_overlap = obter_max_overlap(reads, tamanho)\n",
    "    return ''.join(reads)"
   ]
  },
  {
   "cell_type": "code",
   "execution_count": 10,
   "metadata": {},
   "outputs": [
    {
     "data": {
      "text/plain": [
       "'CABCA'"
      ]
     },
     "execution_count": 10,
     "metadata": {},
     "output_type": "execute_result"
    }
   ],
   "source": [
    "scs_greedy(['ABC', 'BCA', 'CAB'], 2)"
   ]
  },
  {
   "cell_type": "code",
   "execution_count": null,
   "metadata": {},
   "outputs": [],
   "source": []
  }
 ],
 "metadata": {
  "kernelspec": {
   "display_name": "Python 3",
   "language": "python",
   "name": "python3"
  },
  "language_info": {
   "codemirror_mode": {
    "name": "ipython",
    "version": 3
   },
   "file_extension": ".py",
   "mimetype": "text/x-python",
   "name": "python",
   "nbconvert_exporter": "python",
   "pygments_lexer": "ipython3",
   "version": "3.6.5"
  }
 },
 "nbformat": 4,
 "nbformat_minor": 2
}
