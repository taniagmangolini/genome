{
 "cells": [
  {
   "cell_type": "code",
   "execution_count": 1,
   "metadata": {},
   "outputs": [],
   "source": [
    "def leitura_fasta(nome_arquivo):\n",
    "    'Processamento de arquivo fasta e retorno de dicionario com as sequencias lidas'\n",
    "    sequencias = {}\n",
    "    seq_id = ''\n",
    "    \n",
    "    try:\n",
    "        arquivo_fasta =  open(nome_arquivo)\n",
    "    except 'IOError':\n",
    "       print('Arquivo nao encontrado!') \n",
    "\n",
    "    for linha in arquivo_fasta:\n",
    "        if linha[0] == '>':\n",
    "            seq_id = linha.rstrip()[1:linha.find(' ')]\n",
    "            sequencias[seq_id] = ''\n",
    "        elif linha != '':\n",
    "            sequencias[seq_id] = sequencias[seq_id] + linha.rstrip()\n",
    "    return sequencias[seq_id]"
   ]
  },
  {
   "cell_type": "code",
   "execution_count": 2,
   "metadata": {},
   "outputs": [],
   "source": [
    "def encontrar_repeticoes_palavra(sequencia, palavra):\n",
    "    'naive que encontra repetições exatas da palavra'        \n",
    "    repeticoes_palavra = []\n",
    "    nr_comparacoes = 0\n",
    "    nr_alinhamentos = 0\n",
    "    for i in range (len(sequencia) - len(palavra) + 1):\n",
    "        encontrou = True\n",
    "        nr_alinhamentos += 1\n",
    "        for j in range(len(palavra)):\n",
    "            nr_comparacoes += 1\n",
    "            if sequencia[i+j] != palavra[j]:\n",
    "                encontrou = False\n",
    "                break\n",
    "        if encontrou: \n",
    "            repeticoes_palavra.append(i)\n",
    "        \n",
    "    return repeticoes_palavra, nr_comparacoes, nr_alinhamentos"
   ]
  },
  {
   "cell_type": "code",
   "execution_count": 3,
   "metadata": {},
   "outputs": [],
   "source": [
    "def encontrar_repeticoes_palavra_com_mismatches(sequencia, palavra, n):\n",
    "    'Naive que encontra repetições da palavra permitindo n mismatches'        \n",
    "    repeticoes_palavra = []\n",
    "    #nr_comparacoes = 0\n",
    "    #nr_alinhamentos = 0\n",
    "\n",
    "    for i in range (len(sequencia) - len(palavra) + 1):\n",
    "        encontrou = True\n",
    "        mismatches = 0\n",
    "\n",
    "        for j in range(len(palavra)):\n",
    "            \n",
    "            if sequencia[i+j] != palavra[j]:\n",
    "                mismatches += 1\n",
    "                \n",
    "            if mismatches > n:\n",
    "                encontrou = False\n",
    "                break\n",
    "                \n",
    "        if encontrou: \n",
    "            repeticoes_palavra.append(i)\n",
    "    print('=> QUANTIDADE: ', len(repeticoes_palavra) )        \n",
    "    print('repeticoes', repeticoes_palavra)\n",
    "    return repeticoes_palavra.sort()"
   ]
  },
  {
   "cell_type": "code",
   "execution_count": 4,
   "metadata": {},
   "outputs": [
    {
     "name": "stdout",
     "output_type": "stream",
     "text": [
      "=> QUANTIDADE:  2\n",
      "repeticoes [0, 4]\n"
     ]
    }
   ],
   "source": [
    "p = 'ACTTTA'\n",
    "t = 'ACTTACTTGATAAAGT'\n",
    "encontrar_repeticoes_palavra_com_mismatches(t, p, 2)"
   ]
  },
  {
   "cell_type": "code",
   "execution_count": 5,
   "metadata": {},
   "outputs": [],
   "source": [
    "def obter_reverso_complementar(sequencia):\n",
    "    pareamento_bases = {'A':'T', 'T':'A', 'C':'G', 'G':'C', 'N':'N'}\n",
    "    sequencia_invertida = list(sequencia[::-1]) \n",
    "    complemento = [pareamento_bases[base] for base in sequencia_invertida]\n",
    "    return ''.join(complemento)"
   ]
  },
  {
   "cell_type": "code",
   "execution_count": 6,
   "metadata": {},
   "outputs": [],
   "source": [
    "def encontrar_repeticoes_palavra_rc(sequencia, palavra):\n",
    "    'buscar a palavra e a reverso complementar dela (rc)'\n",
    "    nr_repeticoes = 0\n",
    "    repeticoes   = []\n",
    "    repeticoes_sem_duplicados = []\n",
    "    \n",
    "    #busca forward\n",
    "    rep, comp, alinham = encontrar_repeticoes_palavra(sequencia, palavra)\n",
    "    print('forward:', rep)\n",
    "    repeticoes.extend(rep)\n",
    "\n",
    "    \n",
    "    #busca reversa complementar\n",
    "    palavra_rc = obter_reverso_complementar(palavra)  \n",
    "    rep_rc, comp_rc, alinham_rc = encontrar_repeticoes_palavra(sequencia, palavra_rc)\n",
    "    print('reverse', palavra_rc, rep_rc)\n",
    "    repeticoes.extend(rep_rc)\n",
    "    \n",
    "    repeticoes_sem_duplicados = set(repeticoes)\n",
    "    nr_repeticoes = len(repeticoes_sem_duplicados)\n",
    "    \n",
    "    return nr_repeticoes, sorted(repeticoes_sem_duplicados)"
   ]
  },
  {
   "cell_type": "code",
   "execution_count": null,
   "metadata": {},
   "outputs": [],
   "source": []
  },
  {
   "cell_type": "code",
   "execution_count": 7,
   "metadata": {},
   "outputs": [
    {
     "name": "stdout",
     "output_type": "stream",
     "text": [
      "[56922] 799954 984143\n"
     ]
    }
   ],
   "source": [
    "#Naive exato\n",
    "t = leitura_fasta('chr1.GRCh38.excerpt.fasta')\n",
    "p = 'GGCGCGGTGGCTCACGCCTGTAATCCCAGCACTTTGGGAGGCCGAGG'\n",
    "repeticoes_palavra, nr_comparacoes, nr_alinhamentos = encontrar_repeticoes_palavra(t,p)\n",
    "print(repeticoes_palavra, nr_alinhamentos, nr_comparacoes)"
   ]
  },
  {
   "cell_type": "code",
   "execution_count": 8,
   "metadata": {},
   "outputs": [
    {
     "name": "stdout",
     "output_type": "stream",
     "text": [
      "forward: [10, 24]\n",
      "reverse CGCG [10, 24]\n",
      "2\n",
      "[10, 24]\n"
     ]
    }
   ],
   "source": [
    "p = 'CGCG'\n",
    "t = 'AAAAAAAAAACGCGAAAAAAAAAACGCGAAAAAAAAAA'\n",
    "nr, rep = encontrar_repeticoes_palavra_rc( t, p)\n",
    "print(nr)\n",
    "print(rep)\n"
   ]
  },
  {
   "cell_type": "code",
   "execution_count": 9,
   "metadata": {},
   "outputs": [
    {
     "name": "stdout",
     "output_type": "stream",
     "text": [
      "forward: [62, 82, 103, 341, 440, 639, 707, 710, 823, 997, 1084, 1246, 1336, 1576, 1628, 2168, 2752, 2886, 2895, 3083, 3285, 3566, 3611, 3993, 4017, 4307, 4437, 4457, 4606]\n",
      "reverse TAAT [245, 373, 712, 845, 961, 1005, 1269, 1446, 1455, 1602, 1722, 2226, 2329, 2389, 2420, 2540, 2549, 2600, 3106, 3313, 3781, 3898, 4183, 4260, 4309, 4435, 4624, 4696, 4753, 4819, 5193]\n",
      "=> QUANTIDADE:  60\n"
     ]
    }
   ],
   "source": [
    "#!wget http://d396qusza40orc.cloudfront.net/ads1/data/phix.fa\n",
    "p = 'ATTA'\n",
    "phyx = leitura_fasta('phix.fa')\n",
    "nr, rep = encontrar_repeticoes_palavra_rc( phyx, p)\n",
    "print('=> QUANTIDADE: ', nr)\n"
   ]
  },
  {
   "cell_type": "code",
   "execution_count": 10,
   "metadata": {},
   "outputs": [
    {
     "name": "stdout",
     "output_type": "stream",
     "text": [
      "forward: [18005, 23320, 33657, 44806]\n",
      "reverse TCGACT [450, 1908, 2472, 41927, 45369]\n",
      "total 9\n"
     ]
    }
   ],
   "source": [
    "#busca repeticoes da palavra forward e reverse\n",
    "p = 'AGTCGA'\n",
    "fasta_lambda_virus = leitura_fasta('lambda_virus.fa')\n",
    "nr, rep = encontrar_repeticoes_palavra_rc( fasta_lambda_virus, p)\n",
    "print('total',nr)\n"
   ]
  },
  {
   "cell_type": "code",
   "execution_count": 14,
   "metadata": {},
   "outputs": [
    {
     "name": "stdout",
     "output_type": "stream",
     "text": [
      "=> QUANTIDADE:  215\n",
      "repeticoes [49, 282, 299, 302, 380, 1560, 1650, 2235, 2277, 2400, 2562, 2565, 2729, 2823, 3160, 3181, 3946, 4210, 4294, 4309, 4405, 4580, 5069, 5159, 5189, 5231, 5331, 5519, 5737, 5882, 5993, 5996, 6011, 6312, 6522, 6585, 6606, 7316, 7394, 7819, 7904, 7966, 7998, 8534, 8648, 8946, 9339, 9354, 9530, 9842, 9966, 10041, 10250, 10416, 10445, 10484, 10527, 10874, 11193, 11292, 11505, 11568, 11655, 11745, 11838, 12078, 12180, 12222, 12697, 12745, 12819, 12880, 12935, 13011, 13087, 13256, 13415, 13526, 13813, 14259, 15385, 15473, 16192, 17101, 17437, 17755, 17936, 17989, 18016, 18040, 18727, 18853, 18911, 19232, 19263, 19310, 19833, 19929, 19932, 19947, 19980, 20793, 20802, 21305, 21528, 21627, 21684, 22414, 22660, 22670, 22787, 23326, 24063, 24145, 24409, 24595, 24681, 25120, 25139, 25210, 25381, 25384, 25648, 25664, 25773, 25987, 26196, 26208, 26576, 26587, 26653, 26736, 27892, 27967, 28042, 28622, 28840, 28976, 29119, 30029, 30530, 30673, 30902, 31619, 31645, 31682, 31843, 31859, 32069, 33180, 33365, 33715, 33952, 34321, 34421, 34841, 34848, 34956, 35145, 35253, 35289, 35643, 36185, 36687, 36869, 38030, 38197, 38381, 38479, 38737, 39282, 39600, 39681, 39786, 39828, 39954, 40119, 40337, 40508, 40781, 40887, 40890, 40946, 41110, 41225, 41264, 41282, 41324, 41570, 41693, 41717, 41768, 42079, 42082, 42266, 42353, 43039, 43184, 43389, 43662, 43689, 45033, 45727, 45763, 45781, 45790, 46173, 46215, 47028, 47220, 47930, 48101, 48256, 48301, 48411]\n"
     ]
    }
   ],
   "source": [
    "#busca repeticoes da palavra na sequencia do lambda virus com ate n mismatches\n",
    "p='AGGAGGTT'\n",
    "rep = encontrar_repeticoes_palavra_com_mismatches(fasta_lambda_virus, p, 2)\n"
   ]
  },
  {
   "cell_type": "code",
   "execution_count": null,
   "metadata": {},
   "outputs": [],
   "source": []
  },
  {
   "cell_type": "code",
   "execution_count": null,
   "metadata": {},
   "outputs": [],
   "source": []
  },
  {
   "cell_type": "code",
   "execution_count": null,
   "metadata": {},
   "outputs": [],
   "source": []
  },
  {
   "cell_type": "code",
   "execution_count": null,
   "metadata": {},
   "outputs": [],
   "source": []
  },
  {
   "cell_type": "code",
   "execution_count": null,
   "metadata": {},
   "outputs": [],
   "source": []
  }
 ],
 "metadata": {
  "kernelspec": {
   "display_name": "Python 3",
   "language": "python",
   "name": "python3"
  },
  "language_info": {
   "codemirror_mode": {
    "name": "ipython",
    "version": 3
   },
   "file_extension": ".py",
   "mimetype": "text/x-python",
   "name": "python",
   "nbconvert_exporter": "python",
   "pygments_lexer": "ipython3",
   "version": "3.6.5"
  }
 },
 "nbformat": 4,
 "nbformat_minor": 2
}
