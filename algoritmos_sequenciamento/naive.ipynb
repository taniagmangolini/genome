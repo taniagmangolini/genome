{
 "cells": [
  {
   "cell_type": "code",
   "execution_count": 26,
   "metadata": {},
   "outputs": [],
   "source": [
    "def leitura_fasta(nome_arquivo):\n",
    "    'Processamento de arquivo fasta e retorno de dicionario com as sequencias lidas'\n",
    "    sequencias = {}\n",
    "    seq_id = ''\n",
    "    \n",
    "    try:\n",
    "        arquivo_fasta =  open(nome_arquivo)\n",
    "    except 'IOError':\n",
    "       print('Arquivo nao encontrado!') \n",
    "\n",
    "    for linha in arquivo_fasta:\n",
    "        if linha[0] == '>':\n",
    "            seq_id = linha.rstrip()[1:linha.find(' ')]\n",
    "            sequencias[seq_id] = ''\n",
    "        elif linha != '':\n",
    "            sequencias[seq_id] = sequencias[seq_id] + linha.rstrip()\n",
    "    return sequencias[seq_id]"
   ]
  },
  {
   "cell_type": "code",
   "execution_count": 27,
   "metadata": {},
   "outputs": [],
   "source": [
    "def encontrar_repeticoes_palavra(sequencia, palavra):\n",
    "    'naive que encontra repetições exatas da palavra'        \n",
    "    repeticoes_palavra = []\n",
    "    nr_comparacoes = 0\n",
    "    nr_alinhamentos = 0\n",
    "    for i in range (len(sequencia) - len(palavra) + 1):\n",
    "        encontrou = True\n",
    "        nr_alinhamentos += 1\n",
    "        for j in range(len(palavra)):\n",
    "            nr_comparacoes += 1\n",
    "            if sequencia[i+j] != palavra[j]:\n",
    "                encontrou = False\n",
    "                break\n",
    "        if encontrou: \n",
    "            repeticoes_palavra.append(i)\n",
    "        \n",
    "    return repeticoes_palavra, nr_comparacoes, nr_alinhamentos"
   ]
  },
  {
   "cell_type": "code",
   "execution_count": 57,
   "metadata": {},
   "outputs": [],
   "source": [
    "def encontrar_repeticoes_palavra_com_mismatches(sequencia, palavra, n):\n",
    "    'Naive que encontra repetições da palavra permitindo n mismatches'        \n",
    "    repeticoes_palavra = []\n",
    "    #nr_comparacoes = 0\n",
    "    #nr_alinhamentos = 0\n",
    "\n",
    "    for i in range (len(sequencia) - len(palavra) + 1):\n",
    "        encontrou = True\n",
    "        mismatches = 0\n",
    "\n",
    "        for j in range(len(palavra)):\n",
    "            \n",
    "            if sequencia[i+j] != palavra[j]:\n",
    "                mismatches += 1\n",
    "                \n",
    "            if mismatches > n:\n",
    "                encontrou = False\n",
    "                break\n",
    "                \n",
    "        if encontrou: \n",
    "            repeticoes_palavra.append(i)\n",
    "    print('=> QUANTIDADE: ', len(repeticoes_palavra) )        \n",
    "    print('repeticoes', repeticoes_palavra)\n",
    "    return repeticoes_palavra.sort()"
   ]
  },
  {
   "cell_type": "code",
   "execution_count": 58,
   "metadata": {},
   "outputs": [
    {
     "name": "stdout",
     "output_type": "stream",
     "text": [
      "=> QUANTIDADE:  2\n",
      "repeticoes [0, 4]\n"
     ]
    }
   ],
   "source": [
    "p = 'ACTTTA'\n",
    "t = 'ACTTACTTGATAAAGT'\n",
    "encontrar_repeticoes_palavra_com_mismatches(t, p, 2)"
   ]
  },
  {
   "cell_type": "code",
   "execution_count": 59,
   "metadata": {},
   "outputs": [],
   "source": [
    "def obter_reverso_complementar(sequencia):\n",
    "    pareamento_bases = {'A':'T', 'T':'A', 'C':'G', 'G':'C', 'N':'N'}\n",
    "    sequencia_invertida = list(sequencia[::-1]) \n",
    "    complemento = [pareamento_bases[base] for base in sequencia_invertida]\n",
    "    return ''.join(complemento)"
   ]
  },
  {
   "cell_type": "code",
   "execution_count": 60,
   "metadata": {},
   "outputs": [],
   "source": [
    "def encontrar_repeticoes_palavra_rc(sequencia, palavra):\n",
    "    'buscar a palavra e a reverso complementar dela (rc)'\n",
    "    nr_repeticoes = 0\n",
    "    repeticoes   = []\n",
    "    repeticoes_sem_duplicados = []\n",
    "    \n",
    "    #busca forward\n",
    "    rep, comp, alinham = encontrar_repeticoes_palavra(sequencia, palavra)\n",
    "    print('forward:', rep)\n",
    "    repeticoes.extend(rep)\n",
    "\n",
    "    \n",
    "    #busca reversa complementar\n",
    "    palavra_rc = obter_reverso_complementar(palavra)  \n",
    "    rep_rc, comp_rc, alinham_rc = encontrar_repeticoes_palavra(sequencia, palavra_rc)\n",
    "    print('reverse', palavra_rc, rep_rc)\n",
    "    repeticoes.extend(rep_rc)\n",
    "    \n",
    "    repeticoes_sem_duplicados = set(repeticoes)\n",
    "    nr_repeticoes = len(repeticoes_sem_duplicados)\n",
    "    \n",
    "    return nr_repeticoes, sorted(repeticoes_sem_duplicados)"
   ]
  },
  {
   "cell_type": "code",
   "execution_count": null,
   "metadata": {},
   "outputs": [],
   "source": []
  },
  {
   "cell_type": "code",
   "execution_count": 61,
   "metadata": {},
   "outputs": [
    {
     "name": "stdout",
     "output_type": "stream",
     "text": [
      "[56922] 799954 984143\n"
     ]
    }
   ],
   "source": [
    "#Naive exato\n",
    "t = leitura_fasta('chr1.GRCh38.excerpt.fasta')\n",
    "p = 'GGCGCGGTGGCTCACGCCTGTAATCCCAGCACTTTGGGAGGCCGAGG'\n",
    "repeticoes_palavra, nr_comparacoes, nr_alinhamentos = encontrar_repeticoes_palavra(t,p)\n",
    "print(repeticoes_palavra, nr_alinhamentos, nr_comparacoes)"
   ]
  },
  {
   "cell_type": "code",
   "execution_count": 62,
   "metadata": {},
   "outputs": [
    {
     "name": "stdout",
     "output_type": "stream",
     "text": [
      "forward: [10, 24]\n",
      "reverse CGCG [10, 24]\n",
      "2\n",
      "[10, 24]\n"
     ]
    }
   ],
   "source": [
    "p = 'CGCG'\n",
    "t = 'AAAAAAAAAACGCGAAAAAAAAAACGCGAAAAAAAAAA'\n",
    "nr, rep = encontrar_repeticoes_palavra_rc( t, p)\n",
    "print(nr)\n",
    "print(rep)\n"
   ]
  },
  {
   "cell_type": "code",
   "execution_count": 63,
   "metadata": {},
   "outputs": [
    {
     "name": "stdout",
     "output_type": "stream",
     "text": [
      "forward: [62, 82, 103, 341, 440, 639, 707, 710, 823, 997, 1084, 1246, 1336, 1576, 1628, 2168, 2752, 2886, 2895, 3083, 3285, 3566, 3611, 3993, 4017, 4307, 4437, 4457, 4606]\n",
      "reverse TAAT [245, 373, 712, 845, 961, 1005, 1269, 1446, 1455, 1602, 1722, 2226, 2329, 2389, 2420, 2540, 2549, 2600, 3106, 3313, 3781, 3898, 4183, 4260, 4309, 4435, 4624, 4696, 4753, 4819, 5193]\n",
      "=> QUANTIDADE:  60\n"
     ]
    }
   ],
   "source": [
    "#!wget http://d396qusza40orc.cloudfront.net/ads1/data/phix.fa\n",
    "p = 'ATTA'\n",
    "phyx = leitura_fasta('phix.fa')\n",
    "nr, rep = encontrar_repeticoes_palavra_rc( phyx, p)\n",
    "print('=> QUANTIDADE: ', nr)\n"
   ]
  },
  {
   "cell_type": "code",
   "execution_count": 64,
   "metadata": {},
   "outputs": [
    {
     "name": "stdout",
     "output_type": "stream",
     "text": [
      "forward: [18005, 23320, 33657, 44806]\n",
      "reverse TCGACT [450, 1908, 2472, 41927, 45369]\n",
      "total 9\n"
     ]
    }
   ],
   "source": [
    "#busca repeticoes da palavra forward e reverse\n",
    "p = 'AGTCGA'\n",
    "fasta_lambda_virus = leitura_fasta('lambda_virus.fa')\n",
    "nr, rep = encontrar_repeticoes_palavra_rc( fasta_lambda_virus, p)\n",
    "print('total',nr)\n"
   ]
  },
  {
   "cell_type": "code",
   "execution_count": 65,
   "metadata": {},
   "outputs": [
    {
     "name": "stdout",
     "output_type": "stream",
     "text": [
      "=> QUANTIDADE:  191\n",
      "repeticoes [45, 418, 656, 776, 975, 1311, 1346, 3166, 3265, 3292, 3544, 4237, 4378, 4481, 4518, 5240, 5369, 5597, 5773, 5871, 5971, 6350, 6365, 6564, 6572, 6684, 6731, 6764, 6765, 6929, 7026, 7487, 7783, 7790, 8222, 8251, 8284, 8749, 9078, 9197, 9506, 9942, 10734, 10969, 11211, 11331, 11453, 11640, 11973, 12711, 13670, 13750, 13884, 14687, 14884, 15745, 16293, 16817, 17107, 17349, 17541, 17779, 17838, 18792, 19067, 19719, 19779, 21614, 21854, 22174, 22462, 22722, 22956, 23126, 23522, 23677, 23683, 23820, 23885, 24369, 24584, 24787, 25116, 25554, 26046, 26665, 26887, 27237, 27258, 28166, 28276, 28531, 28639, 28920, 28963, 29021, 29144, 29733, 29921, 30176, 30278, 30362, 30395, 30536, 30721, 30967, 31049, 31379, 31449, 31474, 31482, 31641, 31732, 31749, 31829, 31867, 31872, 32523, 32640, 32754, 32779, 32857, 32977, 33079, 33107, 33371, 33403, 33653, 33686, 33863, 34061, 34194, 34466, 34588, 34733, 34785, 35009, 35156, 35525, 35971, 36074, 36989, 37116, 37241, 37467, 37499, 37505, 37715, 37739, 37773, 37880, 37898, 38140, 38144, 38202, 38260, 38325, 38944, 38979, 40379, 40695, 40716, 40880, 41275, 41350, 41518, 41834, 42170, 42650, 42675, 42684, 42934, 42971, 42980, 43061, 43076, 43169, 44012, 44253, 44340, 44422, 44717, 44747, 45894, 46272, 46482, 47207, 47272, 47509, 47963, 48234]\n"
     ]
    }
   ],
   "source": [
    "#busca repeticoes da palavra na sequencia do lambda virus com ate n mismatches\n",
    "p='TTCAAGCC'\n",
    "rep = encontrar_repeticoes_palavra_com_mismatches(fasta_lambda_virus, p, 2)\n"
   ]
  },
  {
   "cell_type": "code",
   "execution_count": null,
   "metadata": {},
   "outputs": [],
   "source": []
  },
  {
   "cell_type": "code",
   "execution_count": null,
   "metadata": {},
   "outputs": [],
   "source": []
  },
  {
   "cell_type": "code",
   "execution_count": null,
   "metadata": {},
   "outputs": [],
   "source": []
  },
  {
   "cell_type": "code",
   "execution_count": null,
   "metadata": {},
   "outputs": [],
   "source": []
  }
 ],
 "metadata": {
  "kernelspec": {
   "display_name": "Python 3",
   "language": "python",
   "name": "python3"
  },
  "language_info": {
   "codemirror_mode": {
    "name": "ipython",
    "version": 3
   },
   "file_extension": ".py",
   "mimetype": "text/x-python",
   "name": "python",
   "nbconvert_exporter": "python",
   "pygments_lexer": "ipython3",
   "version": "3.6.5"
  }
 },
 "nbformat": 4,
 "nbformat_minor": 2
}
